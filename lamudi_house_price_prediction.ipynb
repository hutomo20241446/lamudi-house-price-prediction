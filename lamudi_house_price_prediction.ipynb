{
  "cells": [
    {
      "cell_type": "markdown",
      "metadata": {
        "id": "xMcDqbIQo2Mo"
      },
      "source": [
        "## Import Libraries & Load Data"
      ]
    },
    {
      "cell_type": "code",
      "execution_count": 1,
      "metadata": {
        "id": "I-C4YolRcHzQ"
      },
      "outputs": [],
      "source": [
        "import pandas as pd\n",
        "import numpy as np\n",
        "import matplotlib.pyplot as plt\n",
        "import seaborn as sns"
      ]
    },
    {
      "cell_type": "code",
      "execution_count": 3,
      "metadata": {
        "id": "t2r9Dgr3cKIG"
      },
      "outputs": [],
      "source": [
        "data = pd.read_csv('scraping/lamudi_house_price.csv')"
      ]
    },
    {
      "cell_type": "markdown",
      "metadata": {
        "id": "L7gFyUR6p1FX"
      },
      "source": [
        "### Data Understanding\n",
        "\n"
      ]
    },
    {
      "cell_type": "markdown",
      "metadata": {
        "id": "v9u-vgCs0n6o"
      },
      "source": [
        "#### informasi umum dataset"
      ]
    },
    {
      "cell_type": "code",
      "execution_count": 4,
      "metadata": {
        "colab": {
          "base_uri": "https://localhost:8080/"
        },
        "id": "zmH3k2Cmjb2Y",
        "outputId": "bffd3e56-db77-4a81-af22-914816eec21d"
      },
      "outputs": [
        {
          "output_type": "stream",
          "name": "stdout",
          "text": [
            "<class 'pandas.core.frame.DataFrame'>\n",
            "RangeIndex: 1500 entries, 0 to 1499\n",
            "Data columns (total 7 columns):\n",
            " #   Column           Non-Null Count  Dtype  \n",
            "---  ------           --------------  -----  \n",
            " 0   Title            1500 non-null   object \n",
            " 1   Price            1500 non-null   float64\n",
            " 2   Bedrooms         1500 non-null   int64  \n",
            " 3   Living Size(m²)  1500 non-null   float64\n",
            " 4   Land Size(m²)    1500 non-null   float64\n",
            " 5   Location         1500 non-null   object \n",
            " 6   Timestamp        1500 non-null   object \n",
            "dtypes: float64(3), int64(1), object(3)\n",
            "memory usage: 82.2+ KB\n"
          ]
        }
      ],
      "source": [
        "data.info()"
      ]
    },
    {
      "cell_type": "markdown",
      "metadata": {
        "id": "WaoKgS0S1lZx"
      },
      "source": [
        "- Dataset terdiri dari 1500 rows dan 7 kolom.\n",
        "- Tidak terdapat missing values pada dataset ini.\n",
        "- Fitur Title dan Timestamp tidak digunakan dalam modeling sehingga akan di drop pada bagian data preparation."
      ]
    },
    {
      "cell_type": "markdown",
      "metadata": {
        "id": "GVOB_HxuL2-a"
      },
      "source": [
        " **EDA**"
      ]
    },
    {
      "cell_type": "markdown",
      "metadata": {
        "id": "Rw0qhl1c1cJH"
      },
      "source": [
        "#### Data Tidak konsisten atau tidak wajar"
      ]
    },
    {
      "cell_type": "code",
      "execution_count": 5,
      "metadata": {
        "colab": {
          "base_uri": "https://localhost:8080/",
          "height": 300
        },
        "id": "ooBu17uZX_tF",
        "outputId": "7b560ebe-35ec-428d-995a-8d6cf1c9308d"
      },
      "outputs": [
        {
          "output_type": "execute_result",
          "data": {
            "text/plain": [
              "              Price     Bedrooms  Living Size(m²)  Land Size(m²)\n",
              "count  1.500000e+03  1500.000000      1500.000000   1.500000e+03\n",
              "mean   3.203784e+09     3.628667       156.319867   7.797426e+05\n",
              "std    6.470472e+09     2.918297       156.917200   2.134254e+07\n",
              "min    1.505000e+08     1.000000         1.000000   2.000000e+00\n",
              "25%    7.900000e+08     2.000000        60.000000   7.200000e+01\n",
              "50%    1.600000e+09     3.000000       105.500000   9.900000e+01\n",
              "75%    3.215596e+09     4.000000       199.000000   1.620000e+02\n",
              "max    1.350000e+11    40.000000      1860.000000   5.846847e+08"
            ],
            "text/html": [
              "\n",
              "  <div id=\"df-61a8f36f-f58f-4c66-af3f-95228d3f4559\" class=\"colab-df-container\">\n",
              "    <div>\n",
              "<style scoped>\n",
              "    .dataframe tbody tr th:only-of-type {\n",
              "        vertical-align: middle;\n",
              "    }\n",
              "\n",
              "    .dataframe tbody tr th {\n",
              "        vertical-align: top;\n",
              "    }\n",
              "\n",
              "    .dataframe thead th {\n",
              "        text-align: right;\n",
              "    }\n",
              "</style>\n",
              "<table border=\"1\" class=\"dataframe\">\n",
              "  <thead>\n",
              "    <tr style=\"text-align: right;\">\n",
              "      <th></th>\n",
              "      <th>Price</th>\n",
              "      <th>Bedrooms</th>\n",
              "      <th>Living Size(m²)</th>\n",
              "      <th>Land Size(m²)</th>\n",
              "    </tr>\n",
              "  </thead>\n",
              "  <tbody>\n",
              "    <tr>\n",
              "      <th>count</th>\n",
              "      <td>1.500000e+03</td>\n",
              "      <td>1500.000000</td>\n",
              "      <td>1500.000000</td>\n",
              "      <td>1.500000e+03</td>\n",
              "    </tr>\n",
              "    <tr>\n",
              "      <th>mean</th>\n",
              "      <td>3.203784e+09</td>\n",
              "      <td>3.628667</td>\n",
              "      <td>156.319867</td>\n",
              "      <td>7.797426e+05</td>\n",
              "    </tr>\n",
              "    <tr>\n",
              "      <th>std</th>\n",
              "      <td>6.470472e+09</td>\n",
              "      <td>2.918297</td>\n",
              "      <td>156.917200</td>\n",
              "      <td>2.134254e+07</td>\n",
              "    </tr>\n",
              "    <tr>\n",
              "      <th>min</th>\n",
              "      <td>1.505000e+08</td>\n",
              "      <td>1.000000</td>\n",
              "      <td>1.000000</td>\n",
              "      <td>2.000000e+00</td>\n",
              "    </tr>\n",
              "    <tr>\n",
              "      <th>25%</th>\n",
              "      <td>7.900000e+08</td>\n",
              "      <td>2.000000</td>\n",
              "      <td>60.000000</td>\n",
              "      <td>7.200000e+01</td>\n",
              "    </tr>\n",
              "    <tr>\n",
              "      <th>50%</th>\n",
              "      <td>1.600000e+09</td>\n",
              "      <td>3.000000</td>\n",
              "      <td>105.500000</td>\n",
              "      <td>9.900000e+01</td>\n",
              "    </tr>\n",
              "    <tr>\n",
              "      <th>75%</th>\n",
              "      <td>3.215596e+09</td>\n",
              "      <td>4.000000</td>\n",
              "      <td>199.000000</td>\n",
              "      <td>1.620000e+02</td>\n",
              "    </tr>\n",
              "    <tr>\n",
              "      <th>max</th>\n",
              "      <td>1.350000e+11</td>\n",
              "      <td>40.000000</td>\n",
              "      <td>1860.000000</td>\n",
              "      <td>5.846847e+08</td>\n",
              "    </tr>\n",
              "  </tbody>\n",
              "</table>\n",
              "</div>\n",
              "    <div class=\"colab-df-buttons\">\n",
              "\n",
              "  <div class=\"colab-df-container\">\n",
              "    <button class=\"colab-df-convert\" onclick=\"convertToInteractive('df-61a8f36f-f58f-4c66-af3f-95228d3f4559')\"\n",
              "            title=\"Convert this dataframe to an interactive table.\"\n",
              "            style=\"display:none;\">\n",
              "\n",
              "  <svg xmlns=\"http://www.w3.org/2000/svg\" height=\"24px\" viewBox=\"0 -960 960 960\">\n",
              "    <path d=\"M120-120v-720h720v720H120Zm60-500h600v-160H180v160Zm220 220h160v-160H400v160Zm0 220h160v-160H400v160ZM180-400h160v-160H180v160Zm440 0h160v-160H620v160ZM180-180h160v-160H180v160Zm440 0h160v-160H620v160Z\"/>\n",
              "  </svg>\n",
              "    </button>\n",
              "\n",
              "  <style>\n",
              "    .colab-df-container {\n",
              "      display:flex;\n",
              "      gap: 12px;\n",
              "    }\n",
              "\n",
              "    .colab-df-convert {\n",
              "      background-color: #E8F0FE;\n",
              "      border: none;\n",
              "      border-radius: 50%;\n",
              "      cursor: pointer;\n",
              "      display: none;\n",
              "      fill: #1967D2;\n",
              "      height: 32px;\n",
              "      padding: 0 0 0 0;\n",
              "      width: 32px;\n",
              "    }\n",
              "\n",
              "    .colab-df-convert:hover {\n",
              "      background-color: #E2EBFA;\n",
              "      box-shadow: 0px 1px 2px rgba(60, 64, 67, 0.3), 0px 1px 3px 1px rgba(60, 64, 67, 0.15);\n",
              "      fill: #174EA6;\n",
              "    }\n",
              "\n",
              "    .colab-df-buttons div {\n",
              "      margin-bottom: 4px;\n",
              "    }\n",
              "\n",
              "    [theme=dark] .colab-df-convert {\n",
              "      background-color: #3B4455;\n",
              "      fill: #D2E3FC;\n",
              "    }\n",
              "\n",
              "    [theme=dark] .colab-df-convert:hover {\n",
              "      background-color: #434B5C;\n",
              "      box-shadow: 0px 1px 3px 1px rgba(0, 0, 0, 0.15);\n",
              "      filter: drop-shadow(0px 1px 2px rgba(0, 0, 0, 0.3));\n",
              "      fill: #FFFFFF;\n",
              "    }\n",
              "  </style>\n",
              "\n",
              "    <script>\n",
              "      const buttonEl =\n",
              "        document.querySelector('#df-61a8f36f-f58f-4c66-af3f-95228d3f4559 button.colab-df-convert');\n",
              "      buttonEl.style.display =\n",
              "        google.colab.kernel.accessAllowed ? 'block' : 'none';\n",
              "\n",
              "      async function convertToInteractive(key) {\n",
              "        const element = document.querySelector('#df-61a8f36f-f58f-4c66-af3f-95228d3f4559');\n",
              "        const dataTable =\n",
              "          await google.colab.kernel.invokeFunction('convertToInteractive',\n",
              "                                                    [key], {});\n",
              "        if (!dataTable) return;\n",
              "\n",
              "        const docLinkHtml = 'Like what you see? Visit the ' +\n",
              "          '<a target=\"_blank\" href=https://colab.research.google.com/notebooks/data_table.ipynb>data table notebook</a>'\n",
              "          + ' to learn more about interactive tables.';\n",
              "        element.innerHTML = '';\n",
              "        dataTable['output_type'] = 'display_data';\n",
              "        await google.colab.output.renderOutput(dataTable, element);\n",
              "        const docLink = document.createElement('div');\n",
              "        docLink.innerHTML = docLinkHtml;\n",
              "        element.appendChild(docLink);\n",
              "      }\n",
              "    </script>\n",
              "  </div>\n",
              "\n",
              "\n",
              "    <div id=\"df-84c25b29-e8ed-4ccd-8ed8-325738ed64fe\">\n",
              "      <button class=\"colab-df-quickchart\" onclick=\"quickchart('df-84c25b29-e8ed-4ccd-8ed8-325738ed64fe')\"\n",
              "                title=\"Suggest charts\"\n",
              "                style=\"display:none;\">\n",
              "\n",
              "<svg xmlns=\"http://www.w3.org/2000/svg\" height=\"24px\"viewBox=\"0 0 24 24\"\n",
              "     width=\"24px\">\n",
              "    <g>\n",
              "        <path d=\"M19 3H5c-1.1 0-2 .9-2 2v14c0 1.1.9 2 2 2h14c1.1 0 2-.9 2-2V5c0-1.1-.9-2-2-2zM9 17H7v-7h2v7zm4 0h-2V7h2v10zm4 0h-2v-4h2v4z\"/>\n",
              "    </g>\n",
              "</svg>\n",
              "      </button>\n",
              "\n",
              "<style>\n",
              "  .colab-df-quickchart {\n",
              "      --bg-color: #E8F0FE;\n",
              "      --fill-color: #1967D2;\n",
              "      --hover-bg-color: #E2EBFA;\n",
              "      --hover-fill-color: #174EA6;\n",
              "      --disabled-fill-color: #AAA;\n",
              "      --disabled-bg-color: #DDD;\n",
              "  }\n",
              "\n",
              "  [theme=dark] .colab-df-quickchart {\n",
              "      --bg-color: #3B4455;\n",
              "      --fill-color: #D2E3FC;\n",
              "      --hover-bg-color: #434B5C;\n",
              "      --hover-fill-color: #FFFFFF;\n",
              "      --disabled-bg-color: #3B4455;\n",
              "      --disabled-fill-color: #666;\n",
              "  }\n",
              "\n",
              "  .colab-df-quickchart {\n",
              "    background-color: var(--bg-color);\n",
              "    border: none;\n",
              "    border-radius: 50%;\n",
              "    cursor: pointer;\n",
              "    display: none;\n",
              "    fill: var(--fill-color);\n",
              "    height: 32px;\n",
              "    padding: 0;\n",
              "    width: 32px;\n",
              "  }\n",
              "\n",
              "  .colab-df-quickchart:hover {\n",
              "    background-color: var(--hover-bg-color);\n",
              "    box-shadow: 0 1px 2px rgba(60, 64, 67, 0.3), 0 1px 3px 1px rgba(60, 64, 67, 0.15);\n",
              "    fill: var(--button-hover-fill-color);\n",
              "  }\n",
              "\n",
              "  .colab-df-quickchart-complete:disabled,\n",
              "  .colab-df-quickchart-complete:disabled:hover {\n",
              "    background-color: var(--disabled-bg-color);\n",
              "    fill: var(--disabled-fill-color);\n",
              "    box-shadow: none;\n",
              "  }\n",
              "\n",
              "  .colab-df-spinner {\n",
              "    border: 2px solid var(--fill-color);\n",
              "    border-color: transparent;\n",
              "    border-bottom-color: var(--fill-color);\n",
              "    animation:\n",
              "      spin 1s steps(1) infinite;\n",
              "  }\n",
              "\n",
              "  @keyframes spin {\n",
              "    0% {\n",
              "      border-color: transparent;\n",
              "      border-bottom-color: var(--fill-color);\n",
              "      border-left-color: var(--fill-color);\n",
              "    }\n",
              "    20% {\n",
              "      border-color: transparent;\n",
              "      border-left-color: var(--fill-color);\n",
              "      border-top-color: var(--fill-color);\n",
              "    }\n",
              "    30% {\n",
              "      border-color: transparent;\n",
              "      border-left-color: var(--fill-color);\n",
              "      border-top-color: var(--fill-color);\n",
              "      border-right-color: var(--fill-color);\n",
              "    }\n",
              "    40% {\n",
              "      border-color: transparent;\n",
              "      border-right-color: var(--fill-color);\n",
              "      border-top-color: var(--fill-color);\n",
              "    }\n",
              "    60% {\n",
              "      border-color: transparent;\n",
              "      border-right-color: var(--fill-color);\n",
              "    }\n",
              "    80% {\n",
              "      border-color: transparent;\n",
              "      border-right-color: var(--fill-color);\n",
              "      border-bottom-color: var(--fill-color);\n",
              "    }\n",
              "    90% {\n",
              "      border-color: transparent;\n",
              "      border-bottom-color: var(--fill-color);\n",
              "    }\n",
              "  }\n",
              "</style>\n",
              "\n",
              "      <script>\n",
              "        async function quickchart(key) {\n",
              "          const quickchartButtonEl =\n",
              "            document.querySelector('#' + key + ' button');\n",
              "          quickchartButtonEl.disabled = true;  // To prevent multiple clicks.\n",
              "          quickchartButtonEl.classList.add('colab-df-spinner');\n",
              "          try {\n",
              "            const charts = await google.colab.kernel.invokeFunction(\n",
              "                'suggestCharts', [key], {});\n",
              "          } catch (error) {\n",
              "            console.error('Error during call to suggestCharts:', error);\n",
              "          }\n",
              "          quickchartButtonEl.classList.remove('colab-df-spinner');\n",
              "          quickchartButtonEl.classList.add('colab-df-quickchart-complete');\n",
              "        }\n",
              "        (() => {\n",
              "          let quickchartButtonEl =\n",
              "            document.querySelector('#df-84c25b29-e8ed-4ccd-8ed8-325738ed64fe button');\n",
              "          quickchartButtonEl.style.display =\n",
              "            google.colab.kernel.accessAllowed ? 'block' : 'none';\n",
              "        })();\n",
              "      </script>\n",
              "    </div>\n",
              "\n",
              "    </div>\n",
              "  </div>\n"
            ],
            "application/vnd.google.colaboratory.intrinsic+json": {
              "type": "dataframe",
              "summary": "{\n  \"name\": \"data\",\n  \"rows\": 8,\n  \"fields\": [\n    {\n      \"column\": \"Price\",\n      \"properties\": {\n        \"dtype\": \"number\",\n        \"std\": 46998505535.54285,\n        \"min\": 1500.0,\n        \"max\": 135000000000.0,\n        \"num_unique_values\": 8,\n        \"samples\": [\n          3203783635.0133333,\n          1600000000.0,\n          1500.0\n        ],\n        \"semantic_type\": \"\",\n        \"description\": \"\"\n      }\n    },\n    {\n      \"column\": \"Bedrooms\",\n      \"properties\": {\n        \"dtype\": \"number\",\n        \"std\": 527.6358156256398,\n        \"min\": 1.0,\n        \"max\": 1500.0,\n        \"num_unique_values\": 8,\n        \"samples\": [\n          3.6286666666666667,\n          3.0,\n          1500.0\n        ],\n        \"semantic_type\": \"\",\n        \"description\": \"\"\n      }\n    },\n    {\n      \"column\": \"Living Size(m\\u00b2)\",\n      \"properties\": {\n        \"dtype\": \"number\",\n        \"std\": 734.2699505274716,\n        \"min\": 1.0,\n        \"max\": 1860.0,\n        \"num_unique_values\": 8,\n        \"samples\": [\n          156.31986666666666,\n          105.5,\n          1500.0\n        ],\n        \"semantic_type\": \"\",\n        \"description\": \"\"\n      }\n    },\n    {\n      \"column\": \"Land Size(m\\u00b2)\",\n      \"properties\": {\n        \"dtype\": \"number\",\n        \"std\": 205733939.7585569,\n        \"min\": 2.0,\n        \"max\": 584684685.0,\n        \"num_unique_values\": 8,\n        \"samples\": [\n          779742.6236666667,\n          99.0,\n          1500.0\n        ],\n        \"semantic_type\": \"\",\n        \"description\": \"\"\n      }\n    }\n  ]\n}"
            }
          },
          "metadata": {},
          "execution_count": 5
        }
      ],
      "source": [
        "data.describe()"
      ]
    },
    {
      "cell_type": "code",
      "execution_count": 6,
      "metadata": {
        "colab": {
          "base_uri": "https://localhost:8080/",
          "height": 206
        },
        "id": "Wkfq--BT_INC",
        "outputId": "2855a781-9daf-45eb-b8f7-caf830c3023a"
      },
      "outputs": [
        {
          "output_type": "execute_result",
          "data": {
            "text/plain": [
              "                                                  Title         Price  \\\n",
              "902   dijual rumah siap huni best view free ppn kota...  5.800000e+08   \n",
              "898   dijual rumah siap huni best view free ppn kota...  5.800000e+08   \n",
              "1430  di jual 3 unit villa shm luas tanah 4,750m2 pa...  5.500000e+10   \n",
              "876   stunning ubud leasehold villa surrounded by lu...  1.080000e+10   \n",
              "539   rumah mewah dengan taman luas di taman permata...  1.700000e+10   \n",
              "\n",
              "      Bedrooms  Living Size(m²)  Land Size(m²)   Location  \\\n",
              "902          2             36.0    584684685.0   Semarang   \n",
              "898          2             36.0    584684685.0   Semarang   \n",
              "1430        11           1400.0         4750.0    Gianyar   \n",
              "876          4            932.0         4439.0    Gianyar   \n",
              "539          4            800.0         3050.0  Tangerang   \n",
              "\n",
              "                       Timestamp  \n",
              "902   2025-04-27T14:38:22.904871  \n",
              "898   2025-04-27T14:38:10.904757  \n",
              "1430  2025-04-27T14:43:38.728283  \n",
              "876   2025-04-27T14:38:04.867344  \n",
              "539   2025-04-27T14:34:50.014004  "
            ],
            "text/html": [
              "\n",
              "  <div id=\"df-b1a05b43-1a73-43e3-a087-2ca3674d80b3\" class=\"colab-df-container\">\n",
              "    <div>\n",
              "<style scoped>\n",
              "    .dataframe tbody tr th:only-of-type {\n",
              "        vertical-align: middle;\n",
              "    }\n",
              "\n",
              "    .dataframe tbody tr th {\n",
              "        vertical-align: top;\n",
              "    }\n",
              "\n",
              "    .dataframe thead th {\n",
              "        text-align: right;\n",
              "    }\n",
              "</style>\n",
              "<table border=\"1\" class=\"dataframe\">\n",
              "  <thead>\n",
              "    <tr style=\"text-align: right;\">\n",
              "      <th></th>\n",
              "      <th>Title</th>\n",
              "      <th>Price</th>\n",
              "      <th>Bedrooms</th>\n",
              "      <th>Living Size(m²)</th>\n",
              "      <th>Land Size(m²)</th>\n",
              "      <th>Location</th>\n",
              "      <th>Timestamp</th>\n",
              "    </tr>\n",
              "  </thead>\n",
              "  <tbody>\n",
              "    <tr>\n",
              "      <th>902</th>\n",
              "      <td>dijual rumah siap huni best view free ppn kota...</td>\n",
              "      <td>5.800000e+08</td>\n",
              "      <td>2</td>\n",
              "      <td>36.0</td>\n",
              "      <td>584684685.0</td>\n",
              "      <td>Semarang</td>\n",
              "      <td>2025-04-27T14:38:22.904871</td>\n",
              "    </tr>\n",
              "    <tr>\n",
              "      <th>898</th>\n",
              "      <td>dijual rumah siap huni best view free ppn kota...</td>\n",
              "      <td>5.800000e+08</td>\n",
              "      <td>2</td>\n",
              "      <td>36.0</td>\n",
              "      <td>584684685.0</td>\n",
              "      <td>Semarang</td>\n",
              "      <td>2025-04-27T14:38:10.904757</td>\n",
              "    </tr>\n",
              "    <tr>\n",
              "      <th>1430</th>\n",
              "      <td>di jual 3 unit villa shm luas tanah 4,750m2 pa...</td>\n",
              "      <td>5.500000e+10</td>\n",
              "      <td>11</td>\n",
              "      <td>1400.0</td>\n",
              "      <td>4750.0</td>\n",
              "      <td>Gianyar</td>\n",
              "      <td>2025-04-27T14:43:38.728283</td>\n",
              "    </tr>\n",
              "    <tr>\n",
              "      <th>876</th>\n",
              "      <td>stunning ubud leasehold villa surrounded by lu...</td>\n",
              "      <td>1.080000e+10</td>\n",
              "      <td>4</td>\n",
              "      <td>932.0</td>\n",
              "      <td>4439.0</td>\n",
              "      <td>Gianyar</td>\n",
              "      <td>2025-04-27T14:38:04.867344</td>\n",
              "    </tr>\n",
              "    <tr>\n",
              "      <th>539</th>\n",
              "      <td>rumah mewah dengan taman luas di taman permata...</td>\n",
              "      <td>1.700000e+10</td>\n",
              "      <td>4</td>\n",
              "      <td>800.0</td>\n",
              "      <td>3050.0</td>\n",
              "      <td>Tangerang</td>\n",
              "      <td>2025-04-27T14:34:50.014004</td>\n",
              "    </tr>\n",
              "  </tbody>\n",
              "</table>\n",
              "</div>\n",
              "    <div class=\"colab-df-buttons\">\n",
              "\n",
              "  <div class=\"colab-df-container\">\n",
              "    <button class=\"colab-df-convert\" onclick=\"convertToInteractive('df-b1a05b43-1a73-43e3-a087-2ca3674d80b3')\"\n",
              "            title=\"Convert this dataframe to an interactive table.\"\n",
              "            style=\"display:none;\">\n",
              "\n",
              "  <svg xmlns=\"http://www.w3.org/2000/svg\" height=\"24px\" viewBox=\"0 -960 960 960\">\n",
              "    <path d=\"M120-120v-720h720v720H120Zm60-500h600v-160H180v160Zm220 220h160v-160H400v160Zm0 220h160v-160H400v160ZM180-400h160v-160H180v160Zm440 0h160v-160H620v160ZM180-180h160v-160H180v160Zm440 0h160v-160H620v160Z\"/>\n",
              "  </svg>\n",
              "    </button>\n",
              "\n",
              "  <style>\n",
              "    .colab-df-container {\n",
              "      display:flex;\n",
              "      gap: 12px;\n",
              "    }\n",
              "\n",
              "    .colab-df-convert {\n",
              "      background-color: #E8F0FE;\n",
              "      border: none;\n",
              "      border-radius: 50%;\n",
              "      cursor: pointer;\n",
              "      display: none;\n",
              "      fill: #1967D2;\n",
              "      height: 32px;\n",
              "      padding: 0 0 0 0;\n",
              "      width: 32px;\n",
              "    }\n",
              "\n",
              "    .colab-df-convert:hover {\n",
              "      background-color: #E2EBFA;\n",
              "      box-shadow: 0px 1px 2px rgba(60, 64, 67, 0.3), 0px 1px 3px 1px rgba(60, 64, 67, 0.15);\n",
              "      fill: #174EA6;\n",
              "    }\n",
              "\n",
              "    .colab-df-buttons div {\n",
              "      margin-bottom: 4px;\n",
              "    }\n",
              "\n",
              "    [theme=dark] .colab-df-convert {\n",
              "      background-color: #3B4455;\n",
              "      fill: #D2E3FC;\n",
              "    }\n",
              "\n",
              "    [theme=dark] .colab-df-convert:hover {\n",
              "      background-color: #434B5C;\n",
              "      box-shadow: 0px 1px 3px 1px rgba(0, 0, 0, 0.15);\n",
              "      filter: drop-shadow(0px 1px 2px rgba(0, 0, 0, 0.3));\n",
              "      fill: #FFFFFF;\n",
              "    }\n",
              "  </style>\n",
              "\n",
              "    <script>\n",
              "      const buttonEl =\n",
              "        document.querySelector('#df-b1a05b43-1a73-43e3-a087-2ca3674d80b3 button.colab-df-convert');\n",
              "      buttonEl.style.display =\n",
              "        google.colab.kernel.accessAllowed ? 'block' : 'none';\n",
              "\n",
              "      async function convertToInteractive(key) {\n",
              "        const element = document.querySelector('#df-b1a05b43-1a73-43e3-a087-2ca3674d80b3');\n",
              "        const dataTable =\n",
              "          await google.colab.kernel.invokeFunction('convertToInteractive',\n",
              "                                                    [key], {});\n",
              "        if (!dataTable) return;\n",
              "\n",
              "        const docLinkHtml = 'Like what you see? Visit the ' +\n",
              "          '<a target=\"_blank\" href=https://colab.research.google.com/notebooks/data_table.ipynb>data table notebook</a>'\n",
              "          + ' to learn more about interactive tables.';\n",
              "        element.innerHTML = '';\n",
              "        dataTable['output_type'] = 'display_data';\n",
              "        await google.colab.output.renderOutput(dataTable, element);\n",
              "        const docLink = document.createElement('div');\n",
              "        docLink.innerHTML = docLinkHtml;\n",
              "        element.appendChild(docLink);\n",
              "      }\n",
              "    </script>\n",
              "  </div>\n",
              "\n",
              "\n",
              "    <div id=\"df-e14d84da-66a0-4400-a980-49242ff14fb3\">\n",
              "      <button class=\"colab-df-quickchart\" onclick=\"quickchart('df-e14d84da-66a0-4400-a980-49242ff14fb3')\"\n",
              "                title=\"Suggest charts\"\n",
              "                style=\"display:none;\">\n",
              "\n",
              "<svg xmlns=\"http://www.w3.org/2000/svg\" height=\"24px\"viewBox=\"0 0 24 24\"\n",
              "     width=\"24px\">\n",
              "    <g>\n",
              "        <path d=\"M19 3H5c-1.1 0-2 .9-2 2v14c0 1.1.9 2 2 2h14c1.1 0 2-.9 2-2V5c0-1.1-.9-2-2-2zM9 17H7v-7h2v7zm4 0h-2V7h2v10zm4 0h-2v-4h2v4z\"/>\n",
              "    </g>\n",
              "</svg>\n",
              "      </button>\n",
              "\n",
              "<style>\n",
              "  .colab-df-quickchart {\n",
              "      --bg-color: #E8F0FE;\n",
              "      --fill-color: #1967D2;\n",
              "      --hover-bg-color: #E2EBFA;\n",
              "      --hover-fill-color: #174EA6;\n",
              "      --disabled-fill-color: #AAA;\n",
              "      --disabled-bg-color: #DDD;\n",
              "  }\n",
              "\n",
              "  [theme=dark] .colab-df-quickchart {\n",
              "      --bg-color: #3B4455;\n",
              "      --fill-color: #D2E3FC;\n",
              "      --hover-bg-color: #434B5C;\n",
              "      --hover-fill-color: #FFFFFF;\n",
              "      --disabled-bg-color: #3B4455;\n",
              "      --disabled-fill-color: #666;\n",
              "  }\n",
              "\n",
              "  .colab-df-quickchart {\n",
              "    background-color: var(--bg-color);\n",
              "    border: none;\n",
              "    border-radius: 50%;\n",
              "    cursor: pointer;\n",
              "    display: none;\n",
              "    fill: var(--fill-color);\n",
              "    height: 32px;\n",
              "    padding: 0;\n",
              "    width: 32px;\n",
              "  }\n",
              "\n",
              "  .colab-df-quickchart:hover {\n",
              "    background-color: var(--hover-bg-color);\n",
              "    box-shadow: 0 1px 2px rgba(60, 64, 67, 0.3), 0 1px 3px 1px rgba(60, 64, 67, 0.15);\n",
              "    fill: var(--button-hover-fill-color);\n",
              "  }\n",
              "\n",
              "  .colab-df-quickchart-complete:disabled,\n",
              "  .colab-df-quickchart-complete:disabled:hover {\n",
              "    background-color: var(--disabled-bg-color);\n",
              "    fill: var(--disabled-fill-color);\n",
              "    box-shadow: none;\n",
              "  }\n",
              "\n",
              "  .colab-df-spinner {\n",
              "    border: 2px solid var(--fill-color);\n",
              "    border-color: transparent;\n",
              "    border-bottom-color: var(--fill-color);\n",
              "    animation:\n",
              "      spin 1s steps(1) infinite;\n",
              "  }\n",
              "\n",
              "  @keyframes spin {\n",
              "    0% {\n",
              "      border-color: transparent;\n",
              "      border-bottom-color: var(--fill-color);\n",
              "      border-left-color: var(--fill-color);\n",
              "    }\n",
              "    20% {\n",
              "      border-color: transparent;\n",
              "      border-left-color: var(--fill-color);\n",
              "      border-top-color: var(--fill-color);\n",
              "    }\n",
              "    30% {\n",
              "      border-color: transparent;\n",
              "      border-left-color: var(--fill-color);\n",
              "      border-top-color: var(--fill-color);\n",
              "      border-right-color: var(--fill-color);\n",
              "    }\n",
              "    40% {\n",
              "      border-color: transparent;\n",
              "      border-right-color: var(--fill-color);\n",
              "      border-top-color: var(--fill-color);\n",
              "    }\n",
              "    60% {\n",
              "      border-color: transparent;\n",
              "      border-right-color: var(--fill-color);\n",
              "    }\n",
              "    80% {\n",
              "      border-color: transparent;\n",
              "      border-right-color: var(--fill-color);\n",
              "      border-bottom-color: var(--fill-color);\n",
              "    }\n",
              "    90% {\n",
              "      border-color: transparent;\n",
              "      border-bottom-color: var(--fill-color);\n",
              "    }\n",
              "  }\n",
              "</style>\n",
              "\n",
              "      <script>\n",
              "        async function quickchart(key) {\n",
              "          const quickchartButtonEl =\n",
              "            document.querySelector('#' + key + ' button');\n",
              "          quickchartButtonEl.disabled = true;  // To prevent multiple clicks.\n",
              "          quickchartButtonEl.classList.add('colab-df-spinner');\n",
              "          try {\n",
              "            const charts = await google.colab.kernel.invokeFunction(\n",
              "                'suggestCharts', [key], {});\n",
              "          } catch (error) {\n",
              "            console.error('Error during call to suggestCharts:', error);\n",
              "          }\n",
              "          quickchartButtonEl.classList.remove('colab-df-spinner');\n",
              "          quickchartButtonEl.classList.add('colab-df-quickchart-complete');\n",
              "        }\n",
              "        (() => {\n",
              "          let quickchartButtonEl =\n",
              "            document.querySelector('#df-e14d84da-66a0-4400-a980-49242ff14fb3 button');\n",
              "          quickchartButtonEl.style.display =\n",
              "            google.colab.kernel.accessAllowed ? 'block' : 'none';\n",
              "        })();\n",
              "      </script>\n",
              "    </div>\n",
              "\n",
              "    </div>\n",
              "  </div>\n"
            ],
            "application/vnd.google.colaboratory.intrinsic+json": {
              "type": "dataframe",
              "repr_error": "0"
            }
          },
          "metadata": {},
          "execution_count": 6
        }
      ],
      "source": [
        "data.sort_values('Land Size(m²)', ascending=False).head()"
      ]
    },
    {
      "cell_type": "markdown",
      "metadata": {
        "id": "uTF1HL7t1apg"
      },
      "source": [
        "Ada beberapa nilai tidak wajar pada fitur Living Size(m²)\tdan Land Size(m²) di mana nilainya hanya satuan sehingga akan di-setting batas minimum yang wajar untuk ukuran Living Size(m²)\tdan Land Size(m²) sebesar 36 m² pada tahap preparation. Juga ada nilai terlampau besar (9 digit) pada Land Size(m²) dan akan dihapus pada bagian data preparation."
      ]
    },
    {
      "cell_type": "markdown",
      "metadata": {
        "id": "bw6Wm1EVSztV"
      },
      "source": [
        "#### Distribusi fitur numerik dengan Boxplot"
      ]
    },
    {
      "cell_type": "code",
      "execution_count": 7,
      "metadata": {
        "colab": {
          "base_uri": "https://localhost:8080/",
          "height": 777
        },
        "id": "_HJLv5ZcRK_R",
        "outputId": "42b08752-06d7-4e5d-c6da-cbe584cf462a"
      },
      "outputs": [
        {
          "output_type": "display_data",
          "data": {
            "text/plain": [
              "<Figure size 500x200 with 1 Axes>"
            ],
            "image/png": "[encoded data removed]"
          },
          "metadata": {}
        },
        {
          "output_type": "display_data",
          "data": {
            "text/plain": [
              "<Figure size 500x200 with 1 Axes>"
            ],
            "image/png": "[encoded data removed]"
          },
          "metadata": {}
        },
        {
          "output_type": "display_data",
          "data": {
            "text/plain": [
              "<Figure size 500x200 with 1 Axes>"
            ],
            "image/png": "[encoded data removed]"
          },
          "metadata": {}
        },
        {
          "output_type": "display_data",
          "data": {
            "text/plain": [
              "<Figure size 500x200 with 1 Axes>"
            ],
            "image/png": "[encoded data removed]"
          },
          "metadata": {}
        }
      ],
      "source": [
        "import seaborn as sns\n",
        "import matplotlib.pyplot as plt\n",
        "\n",
        "numeric_cols = data.select_dtypes(include='number').columns\n",
        "\n",
        "for col in numeric_cols:\n",
        "    plt.figure(figsize=(5, 2))\n",
        "    sns.boxplot(data=data[col], orient='h', color='skyblue')\n",
        "\n",
        "    plt.title(f\"Boxplot untuk {col}\")\n",
        "    plt.xlabel(\"Nilai\")\n",
        "    plt.ylabel(col)\n",
        "\n",
        "    plt.tight_layout()\n",
        "    plt.show()\n"
      ]
    },
    {
      "cell_type": "markdown",
      "metadata": {
        "id": "E9Ymf1KyVBbJ"
      },
      "source": [
        "Semua fitur numerik pada dataset ini mengandung outlier sehingga akan dilakukan penghapusan outlier pada bagian data preparation."
      ]
    },
    {
      "cell_type": "markdown",
      "metadata": {
        "id": "hOnWkZOfT1Tx"
      },
      "source": [
        "#### Distribusi data kategorik"
      ]
    },
    {
      "cell_type": "code",
      "execution_count": 8,
      "metadata": {
        "colab": {
          "base_uri": "https://localhost:8080/",
          "height": 601
        },
        "id": "G6VXbz0H6x5Q",
        "outputId": "bbd447b3-bc56-4d76-8a0b-ac5aa19a7636"
      },
      "outputs": [
        {
          "output_type": "display_data",
          "data": {
            "text/plain": [
              "<Figure size 1200x600 with 1 Axes>"
            ],
            "image/png": "[encoded data removed]"
          },
          "metadata": {}
        }
      ],
      "source": [
        "import matplotlib.pyplot as plt\n",
        "import seaborn as sns\n",
        "\n",
        "# Salin kolom Location\n",
        "location_series = data['Location'].copy()\n",
        "\n",
        "# Filter hanya lokasi dengan kemunculan lebih dari 5\n",
        "filtered_locations = location_series[location_series.isin(location_series.value_counts()[location_series.value_counts() > 5].index)]\n",
        "\n",
        "# Plot distribusi lokasi\n",
        "plt.figure(figsize=(12, 6))\n",
        "countplot = sns.countplot(x=filtered_locations)\n",
        "plt.xticks(rotation=45, ha='right')\n",
        "plt.title(\"Distribusi Data Location (Kemunculan > 5)\")\n",
        "plt.xlabel(\"Location\")\n",
        "plt.ylabel(\"Frekuensi\")\n",
        "\n",
        "# Tambahkan label frekuensi di atas bar\n",
        "for patch in countplot.patches:\n",
        "    height = patch.get_height()\n",
        "    if height > 0:\n",
        "        plt.text(patch.get_x() + patch.get_width() / 2, height + 0.5,\n",
        "                 int(height), ha='center', fontsize=8)\n",
        "\n",
        "plt.tight_layout()\n",
        "plt.show()\n"
      ]
    },
    {
      "cell_type": "markdown",
      "metadata": {
        "id": "eNJFRlg37qOX"
      },
      "source": [
        "Agar hasil prediksi representatif, salah satu langkah yang ditempuh adalah dengan hanya menggunakan data yang kemunculan kotanya lebih dari 5 kali. Sehingga pada bagian data preparation akan dihapus data dengan kota-kota yang kemunculannya kurang dari 5 kali."
      ]
    },
    {
      "cell_type": "markdown",
      "metadata": {
        "id": "oXe_ndnqeU7h"
      },
      "source": [
        "Sama seperti fitur-fitur numerik, distribusi data pada fitur Location tidak seimbang. oleh karena itu proses modeling akan menggunakan kfold cross-validation."
      ]
    },
    {
      "cell_type": "code",
      "execution_count": 9,
      "metadata": {
        "colab": {
          "base_uri": "https://localhost:8080/"
        },
        "id": "srBO6yRyspM2",
        "outputId": "c07bfe68-2301-43a4-f0fa-2c8d15ecbee2"
      },
      "outputs": [
        {
          "output_type": "execute_result",
          "data": {
            "text/plain": [
              "np.int64(0)"
            ]
          },
          "metadata": {},
          "execution_count": 9
        }
      ],
      "source": [
        "data.duplicated().sum()"
      ]
    },
    {
      "cell_type": "markdown",
      "metadata": {
        "id": "Brd31Ekwtjwm"
      },
      "source": [
        "Tidak ada data duplikat pada dataset ini"
      ]
    },
    {
      "cell_type": "markdown",
      "metadata": {
        "id": "u3X1s6NqqU8v"
      },
      "source": [
        "### Data Preparation"
      ]
    },
    {
      "cell_type": "markdown",
      "metadata": {
        "id": "QH9Of73MNNlK"
      },
      "source": [
        "#### Drop Fitur yang Tidak digunakan"
      ]
    },
    {
      "cell_type": "markdown",
      "source": [
        "Title dan Timestamp tidak digunakan."
      ],
      "metadata": {
        "id": "FU1GsVtQbJih"
      }
    },
    {
      "cell_type": "code",
      "execution_count": 10,
      "metadata": {
        "id": "ODQ19mPJrR5P"
      },
      "outputs": [],
      "source": [
        "data = data[['Price', 'Bedrooms', 'Living Size(m²)', 'Land Size(m²)',\n",
        "       'Location']].copy()"
      ]
    },
    {
      "cell_type": "code",
      "execution_count": 11,
      "metadata": {
        "colab": {
          "base_uri": "https://localhost:8080/"
        },
        "id": "9y9OkWILZEZ0",
        "outputId": "be9c313b-1bf1-4b83-e4b5-f0f982a4fd9d"
      },
      "outputs": [
        {
          "output_type": "stream",
          "name": "stdout",
          "text": [
            "<class 'pandas.core.frame.DataFrame'>\n",
            "RangeIndex: 1500 entries, 0 to 1499\n",
            "Data columns (total 5 columns):\n",
            " #   Column           Non-Null Count  Dtype  \n",
            "---  ------           --------------  -----  \n",
            " 0   Price            1500 non-null   float64\n",
            " 1   Bedrooms         1500 non-null   int64  \n",
            " 2   Living Size(m²)  1500 non-null   float64\n",
            " 3   Land Size(m²)    1500 non-null   float64\n",
            " 4   Location         1500 non-null   object \n",
            "dtypes: float64(3), int64(1), object(1)\n",
            "memory usage: 58.7+ KB\n"
          ]
        }
      ],
      "source": [
        "data.info()"
      ]
    },
    {
      "cell_type": "markdown",
      "metadata": {
        "id": "nJBQGVuZ8XA5"
      },
      "source": [
        "#### Menentukan size minimal Living Size(m²) Land Size(m²)"
      ]
    },
    {
      "cell_type": "markdown",
      "source": [
        "Hanya akan mempertahankan data dengan minimal Living Size dan Land Size seluas 36 meter persegi."
      ],
      "metadata": {
        "id": "1484MEVtaF3o"
      }
    },
    {
      "cell_type": "code",
      "execution_count": 12,
      "metadata": {
        "colab": {
          "base_uri": "https://localhost:8080/",
          "height": 423
        },
        "id": "M4s21OEWPVil",
        "outputId": "d727add3-400a-43f7-8560-e2a9fd5f91cb"
      },
      "outputs": [
        {
          "output_type": "execute_result",
          "data": {
            "text/plain": [
              "             Price  Bedrooms  Living Size(m²)  Land Size(m²)  \\\n",
              "4     2.500000e+10         7              1.0          782.0   \n",
              "39    4.771200e+08         2             43.0           22.0   \n",
              "71    6.000000e+08         2             31.0           50.0   \n",
              "72    5.441780e+08         2             31.0           50.0   \n",
              "86    4.000000e+08         2             30.0           60.0   \n",
              "...            ...       ...              ...            ...   \n",
              "1464  1.850000e+08         2             30.0           60.0   \n",
              "1473  4.500000e+08         2             60.0           33.0   \n",
              "1474  1.850000e+08         2             30.0           60.0   \n",
              "1493  5.039744e+08         3             34.0           72.0   \n",
              "1497  8.396783e+08         2             34.0           78.0   \n",
              "\n",
              "               Location  \n",
              "4     Tangerang Selatan  \n",
              "39        Jakarta Utara  \n",
              "71    Tangerang Selatan  \n",
              "72            Tangerang  \n",
              "86                Bogor  \n",
              "...                 ...  \n",
              "1464             Bekasi  \n",
              "1473           Surabaya  \n",
              "1474             Bekasi  \n",
              "1493              Bogor  \n",
              "1497             Bekasi  \n",
              "\n",
              "[105 rows x 5 columns]"
            ],
            "text/html": [
              "\n",
              "  <div id=\"df-0d6e5b9c-b50f-4ff2-b59b-ae70a5c9fb43\" class=\"colab-df-container\">\n",
              "    <div>\n",
              "<style scoped>\n",
              "    .dataframe tbody tr th:only-of-type {\n",
              "        vertical-align: middle;\n",
              "    }\n",
              "\n",
              "    .dataframe tbody tr th {\n",
              "        vertical-align: top;\n",
              "    }\n",
              "\n",
              "    .dataframe thead th {\n",
              "        text-align: right;\n",
              "    }\n",
              "</style>\n",
              "<table border=\"1\" class=\"dataframe\">\n",
              "  <thead>\n",
              "    <tr style=\"text-align: right;\">\n",
              "      <th></th>\n",
              "      <th>Price</th>\n",
              "      <th>Bedrooms</th>\n",
              "      <th>Living Size(m²)</th>\n",
              "      <th>Land Size(m²)</th>\n",
              "      <th>Location</th>\n",
              "    </tr>\n",
              "  </thead>\n",
              "  <tbody>\n",
              "    <tr>\n",
              "      <th>4</th>\n",
              "      <td>2.500000e+10</td>\n",
              "      <td>7</td>\n",
              "      <td>1.0</td>\n",
              "      <td>782.0</td>\n",
              "      <td>Tangerang Selatan</td>\n",
              "    </tr>\n",
              "    <tr>\n",
              "      <th>39</th>\n",
              "      <td>4.771200e+08</td>\n",
              "      <td>2</td>\n",
              "      <td>43.0</td>\n",
              "      <td>22.0</td>\n",
              "      <td>Jakarta Utara</td>\n",
              "    </tr>\n",
              "    <tr>\n",
              "      <th>71</th>\n",
              "      <td>6.000000e+08</td>\n",
              "      <td>2</td>\n",
              "      <td>31.0</td>\n",
              "      <td>50.0</td>\n",
              "      <td>Tangerang Selatan</td>\n",
              "    </tr>\n",
              "    <tr>\n",
              "      <th>72</th>\n",
              "      <td>5.441780e+08</td>\n",
              "      <td>2</td>\n",
              "      <td>31.0</td>\n",
              "      <td>50.0</td>\n",
              "      <td>Tangerang</td>\n",
              "    </tr>\n",
              "    <tr>\n",
              "      <th>86</th>\n",
              "      <td>4.000000e+08</td>\n",
              "      <td>2</td>\n",
              "      <td>30.0</td>\n",
              "      <td>60.0</td>\n",
              "      <td>Bogor</td>\n",
              "    </tr>\n",
              "    <tr>\n",
              "      <th>...</th>\n",
              "      <td>...</td>\n",
              "      <td>...</td>\n",
              "      <td>...</td>\n",
              "      <td>...</td>\n",
              "      <td>...</td>\n",
              "    </tr>\n",
              "    <tr>\n",
              "      <th>1464</th>\n",
              "      <td>1.850000e+08</td>\n",
              "      <td>2</td>\n",
              "      <td>30.0</td>\n",
              "      <td>60.0</td>\n",
              "      <td>Bekasi</td>\n",
              "    </tr>\n",
              "    <tr>\n",
              "      <th>1473</th>\n",
              "      <td>4.500000e+08</td>\n",
              "      <td>2</td>\n",
              "      <td>60.0</td>\n",
              "      <td>33.0</td>\n",
              "      <td>Surabaya</td>\n",
              "    </tr>\n",
              "    <tr>\n",
              "      <th>1474</th>\n",
              "      <td>1.850000e+08</td>\n",
              "      <td>2</td>\n",
              "      <td>30.0</td>\n",
              "      <td>60.0</td>\n",
              "      <td>Bekasi</td>\n",
              "    </tr>\n",
              "    <tr>\n",
              "      <th>1493</th>\n",
              "      <td>5.039744e+08</td>\n",
              "      <td>3</td>\n",
              "      <td>34.0</td>\n",
              "      <td>72.0</td>\n",
              "      <td>Bogor</td>\n",
              "    </tr>\n",
              "    <tr>\n",
              "      <th>1497</th>\n",
              "      <td>8.396783e+08</td>\n",
              "      <td>2</td>\n",
              "      <td>34.0</td>\n",
              "      <td>78.0</td>\n",
              "      <td>Bekasi</td>\n",
              "    </tr>\n",
              "  </tbody>\n",
              "</table>\n",
              "<p>105 rows × 5 columns</p>\n",
              "</div>\n",
              "    <div class=\"colab-df-buttons\">\n",
              "\n",
              "  <div class=\"colab-df-container\">\n",
              "    <button class=\"colab-df-convert\" onclick=\"convertToInteractive('df-0d6e5b9c-b50f-4ff2-b59b-ae70a5c9fb43')\"\n",
              "            title=\"Convert this dataframe to an interactive table.\"\n",
              "            style=\"display:none;\">\n",
              "\n",
              "  <svg xmlns=\"http://www.w3.org/2000/svg\" height=\"24px\" viewBox=\"0 -960 960 960\">\n",
              "    <path d=\"M120-120v-720h720v720H120Zm60-500h600v-160H180v160Zm220 220h160v-160H400v160Zm0 220h160v-160H400v160ZM180-400h160v-160H180v160Zm440 0h160v-160H620v160ZM180-180h160v-160H180v160Zm440 0h160v-160H620v160Z\"/>\n",
              "  </svg>\n",
              "    </button>\n",
              "\n",
              "  <style>\n",
              "    .colab-df-container {\n",
              "      display:flex;\n",
              "      gap: 12px;\n",
              "    }\n",
              "\n",
              "    .colab-df-convert {\n",
              "      background-color: #E8F0FE;\n",
              "      border: none;\n",
              "      border-radius: 50%;\n",
              "      cursor: pointer;\n",
              "      display: none;\n",
              "      fill: #1967D2;\n",
              "      height: 32px;\n",
              "      padding: 0 0 0 0;\n",
              "      width: 32px;\n",
              "    }\n",
              "\n",
              "    .colab-df-convert:hover {\n",
              "      background-color: #E2EBFA;\n",
              "      box-shadow: 0px 1px 2px rgba(60, 64, 67, 0.3), 0px 1px 3px 1px rgba(60, 64, 67, 0.15);\n",
              "      fill: #174EA6;\n",
              "    }\n",
              "\n",
              "    .colab-df-buttons div {\n",
              "      margin-bottom: 4px;\n",
              "    }\n",
              "\n",
              "    [theme=dark] .colab-df-convert {\n",
              "      background-color: #3B4455;\n",
              "      fill: #D2E3FC;\n",
              "    }\n",
              "\n",
              "    [theme=dark] .colab-df-convert:hover {\n",
              "      background-color: #434B5C;\n",
              "      box-shadow: 0px 1px 3px 1px rgba(0, 0, 0, 0.15);\n",
              "      filter: drop-shadow(0px 1px 2px rgba(0, 0, 0, 0.3));\n",
              "      fill: #FFFFFF;\n",
              "    }\n",
              "  </style>\n",
              "\n",
              "    <script>\n",
              "      const buttonEl =\n",
              "        document.querySelector('#df-0d6e5b9c-b50f-4ff2-b59b-ae70a5c9fb43 button.colab-df-convert');\n",
              "      buttonEl.style.display =\n",
              "        google.colab.kernel.accessAllowed ? 'block' : 'none';\n",
              "\n",
              "      async function convertToInteractive(key) {\n",
              "        const element = document.querySelector('#df-0d6e5b9c-b50f-4ff2-b59b-ae70a5c9fb43');\n",
              "        const dataTable =\n",
              "          await google.colab.kernel.invokeFunction('convertToInteractive',\n",
              "                                                    [key], {});\n",
              "        if (!dataTable) return;\n",
              "\n",
              "        const docLinkHtml = 'Like what you see? Visit the ' +\n",
              "          '<a target=\"_blank\" href=https://colab.research.google.com/notebooks/data_table.ipynb>data table notebook</a>'\n",
              "          + ' to learn more about interactive tables.';\n",
              "        element.innerHTML = '';\n",
              "        dataTable['output_type'] = 'display_data';\n",
              "        await google.colab.output.renderOutput(dataTable, element);\n",
              "        const docLink = document.createElement('div');\n",
              "        docLink.innerHTML = docLinkHtml;\n",
              "        element.appendChild(docLink);\n",
              "      }\n",
              "    </script>\n",
              "  </div>\n",
              "\n",
              "\n",
              "    <div id=\"df-bdf957c6-da7c-44d5-b40c-fe9b96be3c7a\">\n",
              "      <button class=\"colab-df-quickchart\" onclick=\"quickchart('df-bdf957c6-da7c-44d5-b40c-fe9b96be3c7a')\"\n",
              "                title=\"Suggest charts\"\n",
              "                style=\"display:none;\">\n",
              "\n",
              "<svg xmlns=\"http://www.w3.org/2000/svg\" height=\"24px\"viewBox=\"0 0 24 24\"\n",
              "     width=\"24px\">\n",
              "    <g>\n",
              "        <path d=\"M19 3H5c-1.1 0-2 .9-2 2v14c0 1.1.9 2 2 2h14c1.1 0 2-.9 2-2V5c0-1.1-.9-2-2-2zM9 17H7v-7h2v7zm4 0h-2V7h2v10zm4 0h-2v-4h2v4z\"/>\n",
              "    </g>\n",
              "</svg>\n",
              "      </button>\n",
              "\n",
              "<style>\n",
              "  .colab-df-quickchart {\n",
              "      --bg-color: #E8F0FE;\n",
              "      --fill-color: #1967D2;\n",
              "      --hover-bg-color: #E2EBFA;\n",
              "      --hover-fill-color: #174EA6;\n",
              "      --disabled-fill-color: #AAA;\n",
              "      --disabled-bg-color: #DDD;\n",
              "  }\n",
              "\n",
              "  [theme=dark] .colab-df-quickchart {\n",
              "      --bg-color: #3B4455;\n",
              "      --fill-color: #D2E3FC;\n",
              "      --hover-bg-color: #434B5C;\n",
              "      --hover-fill-color: #FFFFFF;\n",
              "      --disabled-bg-color: #3B4455;\n",
              "      --disabled-fill-color: #666;\n",
              "  }\n",
              "\n",
              "  .colab-df-quickchart {\n",
              "    background-color: var(--bg-color);\n",
              "    border: none;\n",
              "    border-radius: 50%;\n",
              "    cursor: pointer;\n",
              "    display: none;\n",
              "    fill: var(--fill-color);\n",
              "    height: 32px;\n",
              "    padding: 0;\n",
              "    width: 32px;\n",
              "  }\n",
              "\n",
              "  .colab-df-quickchart:hover {\n",
              "    background-color: var(--hover-bg-color);\n",
              "    box-shadow: 0 1px 2px rgba(60, 64, 67, 0.3), 0 1px 3px 1px rgba(60, 64, 67, 0.15);\n",
              "    fill: var(--button-hover-fill-color);\n",
              "  }\n",
              "\n",
              "  .colab-df-quickchart-complete:disabled,\n",
              "  .colab-df-quickchart-complete:disabled:hover {\n",
              "    background-color: var(--disabled-bg-color);\n",
              "    fill: var(--disabled-fill-color);\n",
              "    box-shadow: none;\n",
              "  }\n",
              "\n",
              "  .colab-df-spinner {\n",
              "    border: 2px solid var(--fill-color);\n",
              "    border-color: transparent;\n",
              "    border-bottom-color: var(--fill-color);\n",
              "    animation:\n",
              "      spin 1s steps(1) infinite;\n",
              "  }\n",
              "\n",
              "  @keyframes spin {\n",
              "    0% {\n",
              "      border-color: transparent;\n",
              "      border-bottom-color: var(--fill-color);\n",
              "      border-left-color: var(--fill-color);\n",
              "    }\n",
              "    20% {\n",
              "      border-color: transparent;\n",
              "      border-left-color: var(--fill-color);\n",
              "      border-top-color: var(--fill-color);\n",
              "    }\n",
              "    30% {\n",
              "      border-color: transparent;\n",
              "      border-left-color: var(--fill-color);\n",
              "      border-top-color: var(--fill-color);\n",
              "      border-right-color: var(--fill-color);\n",
              "    }\n",
              "    40% {\n",
              "      border-color: transparent;\n",
              "      border-right-color: var(--fill-color);\n",
              "      border-top-color: var(--fill-color);\n",
              "    }\n",
              "    60% {\n",
              "      border-color: transparent;\n",
              "      border-right-color: var(--fill-color);\n",
              "    }\n",
              "    80% {\n",
              "      border-color: transparent;\n",
              "      border-right-color: var(--fill-color);\n",
              "      border-bottom-color: var(--fill-color);\n",
              "    }\n",
              "    90% {\n",
              "      border-color: transparent;\n",
              "      border-bottom-color: var(--fill-color);\n",
              "    }\n",
              "  }\n",
              "</style>\n",
              "\n",
              "      <script>\n",
              "        async function quickchart(key) {\n",
              "          const quickchartButtonEl =\n",
              "            document.querySelector('#' + key + ' button');\n",
              "          quickchartButtonEl.disabled = true;  // To prevent multiple clicks.\n",
              "          quickchartButtonEl.classList.add('colab-df-spinner');\n",
              "          try {\n",
              "            const charts = await google.colab.kernel.invokeFunction(\n",
              "                'suggestCharts', [key], {});\n",
              "          } catch (error) {\n",
              "            console.error('Error during call to suggestCharts:', error);\n",
              "          }\n",
              "          quickchartButtonEl.classList.remove('colab-df-spinner');\n",
              "          quickchartButtonEl.classList.add('colab-df-quickchart-complete');\n",
              "        }\n",
              "        (() => {\n",
              "          let quickchartButtonEl =\n",
              "            document.querySelector('#df-bdf957c6-da7c-44d5-b40c-fe9b96be3c7a button');\n",
              "          quickchartButtonEl.style.display =\n",
              "            google.colab.kernel.accessAllowed ? 'block' : 'none';\n",
              "        })();\n",
              "      </script>\n",
              "    </div>\n",
              "\n",
              "    </div>\n",
              "  </div>\n"
            ],
            "application/vnd.google.colaboratory.intrinsic+json": {
              "type": "dataframe",
              "summary": "{\n  \"name\": \"data[(data['Living Size(m\\u00b2)'] < 36) | (data['Land Size(m\\u00b2)'] < 36)]\",\n  \"rows\": 105,\n  \"fields\": [\n    {\n      \"column\": \"Price\",\n      \"properties\": {\n        \"dtype\": \"number\",\n        \"std\": 2624774467.170245,\n        \"min\": 150500000.0,\n        \"max\": 25000000000.0,\n        \"num_unique_values\": 81,\n        \"samples\": [\n          980000000.0,\n          25000000000.0,\n          450000000.0\n        ],\n        \"semantic_type\": \"\",\n        \"description\": \"\"\n      }\n    },\n    {\n      \"column\": \"Bedrooms\",\n      \"properties\": {\n        \"dtype\": \"number\",\n        \"std\": 1,\n        \"min\": 1,\n        \"max\": 14,\n        \"num_unique_values\": 7,\n        \"samples\": [\n          7,\n          2,\n          1\n        ],\n        \"semantic_type\": \"\",\n        \"description\": \"\"\n      }\n    },\n    {\n      \"column\": \"Living Size(m\\u00b2)\",\n      \"properties\": {\n        \"dtype\": \"number\",\n        \"std\": 37.781507483057204,\n        \"min\": 1.0,\n        \"max\": 380.0,\n        \"num_unique_values\": 34,\n        \"samples\": [\n          41.0,\n          90.0,\n          75.0\n        ],\n        \"semantic_type\": \"\",\n        \"description\": \"\"\n      }\n    },\n    {\n      \"column\": \"Land Size(m\\u00b2)\",\n      \"properties\": {\n        \"dtype\": \"number\",\n        \"std\": 111.35077380066714,\n        \"min\": 2.0,\n        \"max\": 900.0,\n        \"num_unique_values\": 30,\n        \"samples\": [\n          44.0,\n          20.0,\n          26.0\n        ],\n        \"semantic_type\": \"\",\n        \"description\": \"\"\n      }\n    },\n    {\n      \"column\": \"Location\",\n      \"properties\": {\n        \"dtype\": \"category\",\n        \"num_unique_values\": 20,\n        \"samples\": [\n          \"Tangerang Selatan\",\n          \"Lebak\",\n          \"Karawang\"\n        ],\n        \"semantic_type\": \"\",\n        \"description\": \"\"\n      }\n    }\n  ]\n}"
            }
          },
          "metadata": {},
          "execution_count": 12
        }
      ],
      "source": [
        "data[(data['Living Size(m²)'] < 36) | (data['Land Size(m²)'] < 36)]"
      ]
    },
    {
      "cell_type": "code",
      "execution_count": 13,
      "metadata": {
        "id": "tEg6ixi-RZMl"
      },
      "outputs": [],
      "source": [
        "drop_value = (data['Living Size(m²)'] < 36) | (data['Land Size(m²)'] < 36)\n",
        "data = data[~drop_value].copy()"
      ]
    },
    {
      "cell_type": "markdown",
      "metadata": {
        "id": "n6RmE6g1Cm4D"
      },
      "source": [
        "#### Hapus data duplikat"
      ]
    },
    {
      "cell_type": "code",
      "execution_count": 15,
      "metadata": {
        "id": "hPDXDC3hCrE1"
      },
      "outputs": [],
      "source": [
        "data = data.drop_duplicates()"
      ]
    },
    {
      "cell_type": "code",
      "execution_count": 16,
      "metadata": {
        "colab": {
          "base_uri": "https://localhost:8080/"
        },
        "id": "y_sVU7nl7B35",
        "outputId": "ed266bec-b3be-4b68-868f-f60a5bec7f52"
      },
      "outputs": [
        {
          "output_type": "stream",
          "name": "stdout",
          "text": [
            "<class 'pandas.core.frame.DataFrame'>\n",
            "Index: 1253 entries, 0 to 1499\n",
            "Data columns (total 5 columns):\n",
            " #   Column           Non-Null Count  Dtype  \n",
            "---  ------           --------------  -----  \n",
            " 0   Price            1253 non-null   float64\n",
            " 1   Bedrooms         1253 non-null   int64  \n",
            " 2   Living Size(m²)  1253 non-null   float64\n",
            " 3   Land Size(m²)    1253 non-null   float64\n",
            " 4   Location         1253 non-null   object \n",
            "dtypes: float64(3), int64(1), object(1)\n",
            "memory usage: 58.7+ KB\n"
          ]
        }
      ],
      "source": [
        "data.info()"
      ]
    },
    {
      "cell_type": "markdown",
      "metadata": {
        "id": "H2QheYldgc4G"
      },
      "source": [
        "#### Gunakan hanya lokasi dengan total rumah dijual lebih dari 5"
      ]
    },
    {
      "cell_type": "code",
      "execution_count": 17,
      "metadata": {
        "id": "MP1kEU6d9yTx"
      },
      "outputs": [],
      "source": [
        "location_counts = data['Location'].value_counts()\n",
        "valid_locations = location_counts[location_counts > 5].index\n",
        "data = data[data['Location'].isin(valid_locations)]"
      ]
    },
    {
      "cell_type": "code",
      "execution_count": 18,
      "metadata": {
        "colab": {
          "base_uri": "https://localhost:8080/"
        },
        "id": "HIPpEyq_hGyO",
        "outputId": "7adf77b4-f697-4032-c242-19a7b8b0ace6"
      },
      "outputs": [
        {
          "output_type": "stream",
          "name": "stdout",
          "text": [
            "<class 'pandas.core.frame.DataFrame'>\n",
            "Index: 1194 entries, 0 to 1499\n",
            "Data columns (total 5 columns):\n",
            " #   Column           Non-Null Count  Dtype  \n",
            "---  ------           --------------  -----  \n",
            " 0   Price            1194 non-null   float64\n",
            " 1   Bedrooms         1194 non-null   int64  \n",
            " 2   Living Size(m²)  1194 non-null   float64\n",
            " 3   Land Size(m²)    1194 non-null   float64\n",
            " 4   Location         1194 non-null   object \n",
            "dtypes: float64(3), int64(1), object(1)\n",
            "memory usage: 56.0+ KB\n"
          ]
        }
      ],
      "source": [
        "data.info()"
      ]
    },
    {
      "cell_type": "code",
      "execution_count": 19,
      "metadata": {
        "colab": {
          "base_uri": "https://localhost:8080/",
          "height": 927
        },
        "id": "azEQe4bL-D4a",
        "outputId": "f70a0b52-e9d3-4e82-fa42-b4992f929f32"
      },
      "outputs": [
        {
          "output_type": "execute_result",
          "data": {
            "text/plain": [
              "             Location  Total_Rows\n",
              "0              Badung          49\n",
              "1             Bandung          71\n",
              "2              Bantul           7\n",
              "3              Bekasi         108\n",
              "4               Bogor         106\n",
              "5            Denpasar          12\n",
              "6               Depok         110\n",
              "7             Gianyar           8\n",
              "8       Jakarta Barat          33\n",
              "9       Jakarta Pusat          23\n",
              "10    Jakarta Selatan          79\n",
              "11      Jakarta Timur          74\n",
              "12      Jakarta Utara          21\n",
              "13           Karawang           8\n",
              "14           Makassar           7\n",
              "15             Malang          30\n",
              "16              Medan           7\n",
              "17          Palembang           6\n",
              "18            Selatan          10\n",
              "19           Semarang          10\n",
              "20           Sidoarjo          13\n",
              "21             Sleman          19\n",
              "22               Solo           9\n",
              "23          Sukoharjo           6\n",
              "24           Surabaya          50\n",
              "25          Tangerang         157\n",
              "26  Tangerang Selatan         154\n",
              "27         Yogyakarta           7"
            ],
            "text/html": [
              "\n",
              "  <div id=\"df-098a5738-173a-47ad-a519-5c0a8aa72d27\" class=\"colab-df-container\">\n",
              "    <div>\n",
              "<style scoped>\n",
              "    .dataframe tbody tr th:only-of-type {\n",
              "        vertical-align: middle;\n",
              "    }\n",
              "\n",
              "    .dataframe tbody tr th {\n",
              "        vertical-align: top;\n",
              "    }\n",
              "\n",
              "    .dataframe thead th {\n",
              "        text-align: right;\n",
              "    }\n",
              "</style>\n",
              "<table border=\"1\" class=\"dataframe\">\n",
              "  <thead>\n",
              "    <tr style=\"text-align: right;\">\n",
              "      <th></th>\n",
              "      <th>Location</th>\n",
              "      <th>Total_Rows</th>\n",
              "    </tr>\n",
              "  </thead>\n",
              "  <tbody>\n",
              "    <tr>\n",
              "      <th>0</th>\n",
              "      <td>Badung</td>\n",
              "      <td>49</td>\n",
              "    </tr>\n",
              "    <tr>\n",
              "      <th>1</th>\n",
              "      <td>Bandung</td>\n",
              "      <td>71</td>\n",
              "    </tr>\n",
              "    <tr>\n",
              "      <th>2</th>\n",
              "      <td>Bantul</td>\n",
              "      <td>7</td>\n",
              "    </tr>\n",
              "    <tr>\n",
              "      <th>3</th>\n",
              "      <td>Bekasi</td>\n",
              "      <td>108</td>\n",
              "    </tr>\n",
              "    <tr>\n",
              "      <th>4</th>\n",
              "      <td>Bogor</td>\n",
              "      <td>106</td>\n",
              "    </tr>\n",
              "    <tr>\n",
              "      <th>5</th>\n",
              "      <td>Denpasar</td>\n",
              "      <td>12</td>\n",
              "    </tr>\n",
              "    <tr>\n",
              "      <th>6</th>\n",
              "      <td>Depok</td>\n",
              "      <td>110</td>\n",
              "    </tr>\n",
              "    <tr>\n",
              "      <th>7</th>\n",
              "      <td>Gianyar</td>\n",
              "      <td>8</td>\n",
              "    </tr>\n",
              "    <tr>\n",
              "      <th>8</th>\n",
              "      <td>Jakarta Barat</td>\n",
              "      <td>33</td>\n",
              "    </tr>\n",
              "    <tr>\n",
              "      <th>9</th>\n",
              "      <td>Jakarta Pusat</td>\n",
              "      <td>23</td>\n",
              "    </tr>\n",
              "    <tr>\n",
              "      <th>10</th>\n",
              "      <td>Jakarta Selatan</td>\n",
              "      <td>79</td>\n",
              "    </tr>\n",
              "    <tr>\n",
              "      <th>11</th>\n",
              "      <td>Jakarta Timur</td>\n",
              "      <td>74</td>\n",
              "    </tr>\n",
              "    <tr>\n",
              "      <th>12</th>\n",
              "      <td>Jakarta Utara</td>\n",
              "      <td>21</td>\n",
              "    </tr>\n",
              "    <tr>\n",
              "      <th>13</th>\n",
              "      <td>Karawang</td>\n",
              "      <td>8</td>\n",
              "    </tr>\n",
              "    <tr>\n",
              "      <th>14</th>\n",
              "      <td>Makassar</td>\n",
              "      <td>7</td>\n",
              "    </tr>\n",
              "    <tr>\n",
              "      <th>15</th>\n",
              "      <td>Malang</td>\n",
              "      <td>30</td>\n",
              "    </tr>\n",
              "    <tr>\n",
              "      <th>16</th>\n",
              "      <td>Medan</td>\n",
              "      <td>7</td>\n",
              "    </tr>\n",
              "    <tr>\n",
              "      <th>17</th>\n",
              "      <td>Palembang</td>\n",
              "      <td>6</td>\n",
              "    </tr>\n",
              "    <tr>\n",
              "      <th>18</th>\n",
              "      <td>Selatan</td>\n",
              "      <td>10</td>\n",
              "    </tr>\n",
              "    <tr>\n",
              "      <th>19</th>\n",
              "      <td>Semarang</td>\n",
              "      <td>10</td>\n",
              "    </tr>\n",
              "    <tr>\n",
              "      <th>20</th>\n",
              "      <td>Sidoarjo</td>\n",
              "      <td>13</td>\n",
              "    </tr>\n",
              "    <tr>\n",
              "      <th>21</th>\n",
              "      <td>Sleman</td>\n",
              "      <td>19</td>\n",
              "    </tr>\n",
              "    <tr>\n",
              "      <th>22</th>\n",
              "      <td>Solo</td>\n",
              "      <td>9</td>\n",
              "    </tr>\n",
              "    <tr>\n",
              "      <th>23</th>\n",
              "      <td>Sukoharjo</td>\n",
              "      <td>6</td>\n",
              "    </tr>\n",
              "    <tr>\n",
              "      <th>24</th>\n",
              "      <td>Surabaya</td>\n",
              "      <td>50</td>\n",
              "    </tr>\n",
              "    <tr>\n",
              "      <th>25</th>\n",
              "      <td>Tangerang</td>\n",
              "      <td>157</td>\n",
              "    </tr>\n",
              "    <tr>\n",
              "      <th>26</th>\n",
              "      <td>Tangerang Selatan</td>\n",
              "      <td>154</td>\n",
              "    </tr>\n",
              "    <tr>\n",
              "      <th>27</th>\n",
              "      <td>Yogyakarta</td>\n",
              "      <td>7</td>\n",
              "    </tr>\n",
              "  </tbody>\n",
              "</table>\n",
              "</div>\n",
              "    <div class=\"colab-df-buttons\">\n",
              "\n",
              "  <div class=\"colab-df-container\">\n",
              "    <button class=\"colab-df-convert\" onclick=\"convertToInteractive('df-098a5738-173a-47ad-a519-5c0a8aa72d27')\"\n",
              "            title=\"Convert this dataframe to an interactive table.\"\n",
              "            style=\"display:none;\">\n",
              "\n",
              "  <svg xmlns=\"http://www.w3.org/2000/svg\" height=\"24px\" viewBox=\"0 -960 960 960\">\n",
              "    <path d=\"M120-120v-720h720v720H120Zm60-500h600v-160H180v160Zm220 220h160v-160H400v160Zm0 220h160v-160H400v160ZM180-400h160v-160H180v160Zm440 0h160v-160H620v160ZM180-180h160v-160H180v160Zm440 0h160v-160H620v160Z\"/>\n",
              "  </svg>\n",
              "    </button>\n",
              "\n",
              "  <style>\n",
              "    .colab-df-container {\n",
              "      display:flex;\n",
              "      gap: 12px;\n",
              "    }\n",
              "\n",
              "    .colab-df-convert {\n",
              "      background-color: #E8F0FE;\n",
              "      border: none;\n",
              "      border-radius: 50%;\n",
              "      cursor: pointer;\n",
              "      display: none;\n",
              "      fill: #1967D2;\n",
              "      height: 32px;\n",
              "      padding: 0 0 0 0;\n",
              "      width: 32px;\n",
              "    }\n",
              "\n",
              "    .colab-df-convert:hover {\n",
              "      background-color: #E2EBFA;\n",
              "      box-shadow: 0px 1px 2px rgba(60, 64, 67, 0.3), 0px 1px 3px 1px rgba(60, 64, 67, 0.15);\n",
              "      fill: #174EA6;\n",
              "    }\n",
              "\n",
              "    .colab-df-buttons div {\n",
              "      margin-bottom: 4px;\n",
              "    }\n",
              "\n",
              "    [theme=dark] .colab-df-convert {\n",
              "      background-color: #3B4455;\n",
              "      fill: #D2E3FC;\n",
              "    }\n",
              "\n",
              "    [theme=dark] .colab-df-convert:hover {\n",
              "      background-color: #434B5C;\n",
              "      box-shadow: 0px 1px 3px 1px rgba(0, 0, 0, 0.15);\n",
              "      filter: drop-shadow(0px 1px 2px rgba(0, 0, 0, 0.3));\n",
              "      fill: #FFFFFF;\n",
              "    }\n",
              "  </style>\n",
              "\n",
              "    <script>\n",
              "      const buttonEl =\n",
              "        document.querySelector('#df-098a5738-173a-47ad-a519-5c0a8aa72d27 button.colab-df-convert');\n",
              "      buttonEl.style.display =\n",
              "        google.colab.kernel.accessAllowed ? 'block' : 'none';\n",
              "\n",
              "      async function convertToInteractive(key) {\n",
              "        const element = document.querySelector('#df-098a5738-173a-47ad-a519-5c0a8aa72d27');\n",
              "        const dataTable =\n",
              "          await google.colab.kernel.invokeFunction('convertToInteractive',\n",
              "                                                    [key], {});\n",
              "        if (!dataTable) return;\n",
              "\n",
              "        const docLinkHtml = 'Like what you see? Visit the ' +\n",
              "          '<a target=\"_blank\" href=https://colab.research.google.com/notebooks/data_table.ipynb>data table notebook</a>'\n",
              "          + ' to learn more about interactive tables.';\n",
              "        element.innerHTML = '';\n",
              "        dataTable['output_type'] = 'display_data';\n",
              "        await google.colab.output.renderOutput(dataTable, element);\n",
              "        const docLink = document.createElement('div');\n",
              "        docLink.innerHTML = docLinkHtml;\n",
              "        element.appendChild(docLink);\n",
              "      }\n",
              "    </script>\n",
              "  </div>\n",
              "\n",
              "\n",
              "    <div id=\"df-2fa0baa4-e28e-4686-92db-7971719ae582\">\n",
              "      <button class=\"colab-df-quickchart\" onclick=\"quickchart('df-2fa0baa4-e28e-4686-92db-7971719ae582')\"\n",
              "                title=\"Suggest charts\"\n",
              "                style=\"display:none;\">\n",
              "\n",
              "<svg xmlns=\"http://www.w3.org/2000/svg\" height=\"24px\"viewBox=\"0 0 24 24\"\n",
              "     width=\"24px\">\n",
              "    <g>\n",
              "        <path d=\"M19 3H5c-1.1 0-2 .9-2 2v14c0 1.1.9 2 2 2h14c1.1 0 2-.9 2-2V5c0-1.1-.9-2-2-2zM9 17H7v-7h2v7zm4 0h-2V7h2v10zm4 0h-2v-4h2v4z\"/>\n",
              "    </g>\n",
              "</svg>\n",
              "      </button>\n",
              "\n",
              "<style>\n",
              "  .colab-df-quickchart {\n",
              "      --bg-color: #E8F0FE;\n",
              "      --fill-color: #1967D2;\n",
              "      --hover-bg-color: #E2EBFA;\n",
              "      --hover-fill-color: #174EA6;\n",
              "      --disabled-fill-color: #AAA;\n",
              "      --disabled-bg-color: #DDD;\n",
              "  }\n",
              "\n",
              "  [theme=dark] .colab-df-quickchart {\n",
              "      --bg-color: #3B4455;\n",
              "      --fill-color: #D2E3FC;\n",
              "      --hover-bg-color: #434B5C;\n",
              "      --hover-fill-color: #FFFFFF;\n",
              "      --disabled-bg-color: #3B4455;\n",
              "      --disabled-fill-color: #666;\n",
              "  }\n",
              "\n",
              "  .colab-df-quickchart {\n",
              "    background-color: var(--bg-color);\n",
              "    border: none;\n",
              "    border-radius: 50%;\n",
              "    cursor: pointer;\n",
              "    display: none;\n",
              "    fill: var(--fill-color);\n",
              "    height: 32px;\n",
              "    padding: 0;\n",
              "    width: 32px;\n",
              "  }\n",
              "\n",
              "  .colab-df-quickchart:hover {\n",
              "    background-color: var(--hover-bg-color);\n",
              "    box-shadow: 0 1px 2px rgba(60, 64, 67, 0.3), 0 1px 3px 1px rgba(60, 64, 67, 0.15);\n",
              "    fill: var(--button-hover-fill-color);\n",
              "  }\n",
              "\n",
              "  .colab-df-quickchart-complete:disabled,\n",
              "  .colab-df-quickchart-complete:disabled:hover {\n",
              "    background-color: var(--disabled-bg-color);\n",
              "    fill: var(--disabled-fill-color);\n",
              "    box-shadow: none;\n",
              "  }\n",
              "\n",
              "  .colab-df-spinner {\n",
              "    border: 2px solid var(--fill-color);\n",
              "    border-color: transparent;\n",
              "    border-bottom-color: var(--fill-color);\n",
              "    animation:\n",
              "      spin 1s steps(1) infinite;\n",
              "  }\n",
              "\n",
              "  @keyframes spin {\n",
              "    0% {\n",
              "      border-color: transparent;\n",
              "      border-bottom-color: var(--fill-color);\n",
              "      border-left-color: var(--fill-color);\n",
              "    }\n",
              "    20% {\n",
              "      border-color: transparent;\n",
              "      border-left-color: var(--fill-color);\n",
              "      border-top-color: var(--fill-color);\n",
              "    }\n",
              "    30% {\n",
              "      border-color: transparent;\n",
              "      border-left-color: var(--fill-color);\n",
              "      border-top-color: var(--fill-color);\n",
              "      border-right-color: var(--fill-color);\n",
              "    }\n",
              "    40% {\n",
              "      border-color: transparent;\n",
              "      border-right-color: var(--fill-color);\n",
              "      border-top-color: var(--fill-color);\n",
              "    }\n",
              "    60% {\n",
              "      border-color: transparent;\n",
              "      border-right-color: var(--fill-color);\n",
              "    }\n",
              "    80% {\n",
              "      border-color: transparent;\n",
              "      border-right-color: var(--fill-color);\n",
              "      border-bottom-color: var(--fill-color);\n",
              "    }\n",
              "    90% {\n",
              "      border-color: transparent;\n",
              "      border-bottom-color: var(--fill-color);\n",
              "    }\n",
              "  }\n",
              "</style>\n",
              "\n",
              "      <script>\n",
              "        async function quickchart(key) {\n",
              "          const quickchartButtonEl =\n",
              "            document.querySelector('#' + key + ' button');\n",
              "          quickchartButtonEl.disabled = true;  // To prevent multiple clicks.\n",
              "          quickchartButtonEl.classList.add('colab-df-spinner');\n",
              "          try {\n",
              "            const charts = await google.colab.kernel.invokeFunction(\n",
              "                'suggestCharts', [key], {});\n",
              "          } catch (error) {\n",
              "            console.error('Error during call to suggestCharts:', error);\n",
              "          }\n",
              "          quickchartButtonEl.classList.remove('colab-df-spinner');\n",
              "          quickchartButtonEl.classList.add('colab-df-quickchart-complete');\n",
              "        }\n",
              "        (() => {\n",
              "          let quickchartButtonEl =\n",
              "            document.querySelector('#df-2fa0baa4-e28e-4686-92db-7971719ae582 button');\n",
              "          quickchartButtonEl.style.display =\n",
              "            google.colab.kernel.accessAllowed ? 'block' : 'none';\n",
              "        })();\n",
              "      </script>\n",
              "    </div>\n",
              "\n",
              "    </div>\n",
              "  </div>\n"
            ],
            "application/vnd.google.colaboratory.intrinsic+json": {
              "type": "dataframe",
              "summary": "{\n  \"name\": \"data\",\n  \"rows\": 28,\n  \"fields\": [\n    {\n      \"column\": \"Location\",\n      \"properties\": {\n        \"dtype\": \"string\",\n        \"num_unique_values\": 28,\n        \"samples\": [\n          \"Jakarta Pusat\",\n          \"Tangerang\",\n          \"Jakarta Barat\"\n        ],\n        \"semantic_type\": \"\",\n        \"description\": \"\"\n      }\n    },\n    {\n      \"column\": \"Total_Rows\",\n      \"properties\": {\n        \"dtype\": \"number\",\n        \"std\": 46,\n        \"min\": 6,\n        \"max\": 157,\n        \"num_unique_values\": 22,\n        \"samples\": [\n          49,\n          30,\n          33\n        ],\n        \"semantic_type\": \"\",\n        \"description\": \"\"\n      }\n    }\n  ]\n}"
            }
          },
          "metadata": {},
          "execution_count": 19
        }
      ],
      "source": [
        "data.groupby('Location').size().reset_index(name='Total_Rows')"
      ]
    },
    {
      "cell_type": "markdown",
      "metadata": {
        "id": "fdoQUIQgVWId"
      },
      "source": [
        "#### Handling Outliers"
      ]
    },
    {
      "cell_type": "code",
      "execution_count": 20,
      "metadata": {
        "id": "XkV9ityVd4Rf"
      },
      "outputs": [],
      "source": [
        "df = data.copy()"
      ]
    },
    {
      "cell_type": "markdown",
      "source": [
        "Penangan outlier dilakukan menggunakan metode IQR."
      ],
      "metadata": {
        "id": "Xvn7K0Z5IqWw"
      }
    },
    {
      "cell_type": "code",
      "execution_count": 21,
      "metadata": {
        "id": "HwEbnwR1Vap8"
      },
      "outputs": [],
      "source": [
        "df_numeric = df.select_dtypes(include=['float64', 'int64'])\n",
        "Q1 = df_numeric.quantile(0.25)\n",
        "Q3 = df_numeric.quantile(0.75)\n",
        "IQR = Q3 - Q1\n",
        "\n",
        "lower_bound = Q1 - 1.5 * IQR\n",
        "upper_bound = Q3 + 1.5 * IQR\n",
        "\n",
        "mask = ~((df_numeric < lower_bound) | (df_numeric > upper_bound)).any(axis=1)\n",
        "df = df.loc[mask].reset_index(drop=True)"
      ]
    },
    {
      "cell_type": "code",
      "execution_count": 22,
      "metadata": {
        "colab": {
          "base_uri": "https://localhost:8080/",
          "height": 300
        },
        "id": "zdWuRXTr3cuf",
        "outputId": "54e10839-08a6-42e0-d85a-5cdf92b5ae7b"
      },
      "outputs": [
        {
          "output_type": "execute_result",
          "data": {
            "text/plain": [
              "              Price     Bedrooms  Living Size(m²)  Land Size(m²)\n",
              "count  1.003000e+03  1003.000000      1003.000000    1003.000000\n",
              "mean   1.972755e+09     3.118644       120.787438     112.505982\n",
              "std    1.483393e+09     0.899590        73.410662      57.200539\n",
              "min    2.000000e+08     2.000000        36.000000      37.000000\n",
              "25%    8.500000e+08     2.000000        64.000000      72.000000\n",
              "50%    1.500000e+09     3.000000       100.000000      96.000000\n",
              "75%    2.692986e+09     4.000000       160.000000     135.000000\n",
              "max    7.300000e+09     5.000000       400.000000     338.000000"
            ],
            "text/html": [
              "\n",
              "  <div id=\"df-8d9ac741-df6f-462d-894f-34f5d9ff1cd5\" class=\"colab-df-container\">\n",
              "    <div>\n",
              "<style scoped>\n",
              "    .dataframe tbody tr th:only-of-type {\n",
              "        vertical-align: middle;\n",
              "    }\n",
              "\n",
              "    .dataframe tbody tr th {\n",
              "        vertical-align: top;\n",
              "    }\n",
              "\n",
              "    .dataframe thead th {\n",
              "        text-align: right;\n",
              "    }\n",
              "</style>\n",
              "<table border=\"1\" class=\"dataframe\">\n",
              "  <thead>\n",
              "    <tr style=\"text-align: right;\">\n",
              "      <th></th>\n",
              "      <th>Price</th>\n",
              "      <th>Bedrooms</th>\n",
              "      <th>Living Size(m²)</th>\n",
              "      <th>Land Size(m²)</th>\n",
              "    </tr>\n",
              "  </thead>\n",
              "  <tbody>\n",
              "    <tr>\n",
              "      <th>count</th>\n",
              "      <td>1.003000e+03</td>\n",
              "      <td>1003.000000</td>\n",
              "      <td>1003.000000</td>\n",
              "      <td>1003.000000</td>\n",
              "    </tr>\n",
              "    <tr>\n",
              "      <th>mean</th>\n",
              "      <td>1.972755e+09</td>\n",
              "      <td>3.118644</td>\n",
              "      <td>120.787438</td>\n",
              "      <td>112.505982</td>\n",
              "    </tr>\n",
              "    <tr>\n",
              "      <th>std</th>\n",
              "      <td>1.483393e+09</td>\n",
              "      <td>0.899590</td>\n",
              "      <td>73.410662</td>\n",
              "      <td>57.200539</td>\n",
              "    </tr>\n",
              "    <tr>\n",
              "      <th>min</th>\n",
              "      <td>2.000000e+08</td>\n",
              "      <td>2.000000</td>\n",
              "      <td>36.000000</td>\n",
              "      <td>37.000000</td>\n",
              "    </tr>\n",
              "    <tr>\n",
              "      <th>25%</th>\n",
              "      <td>8.500000e+08</td>\n",
              "      <td>2.000000</td>\n",
              "      <td>64.000000</td>\n",
              "      <td>72.000000</td>\n",
              "    </tr>\n",
              "    <tr>\n",
              "      <th>50%</th>\n",
              "      <td>1.500000e+09</td>\n",
              "      <td>3.000000</td>\n",
              "      <td>100.000000</td>\n",
              "      <td>96.000000</td>\n",
              "    </tr>\n",
              "    <tr>\n",
              "      <th>75%</th>\n",
              "      <td>2.692986e+09</td>\n",
              "      <td>4.000000</td>\n",
              "      <td>160.000000</td>\n",
              "      <td>135.000000</td>\n",
              "    </tr>\n",
              "    <tr>\n",
              "      <th>max</th>\n",
              "      <td>7.300000e+09</td>\n",
              "      <td>5.000000</td>\n",
              "      <td>400.000000</td>\n",
              "      <td>338.000000</td>\n",
              "    </tr>\n",
              "  </tbody>\n",
              "</table>\n",
              "</div>\n",
              "    <div class=\"colab-df-buttons\">\n",
              "\n",
              "  <div class=\"colab-df-container\">\n",
              "    <button class=\"colab-df-convert\" onclick=\"convertToInteractive('df-8d9ac741-df6f-462d-894f-34f5d9ff1cd5')\"\n",
              "            title=\"Convert this dataframe to an interactive table.\"\n",
              "            style=\"display:none;\">\n",
              "\n",
              "  <svg xmlns=\"http://www.w3.org/2000/svg\" height=\"24px\" viewBox=\"0 -960 960 960\">\n",
              "    <path d=\"M120-120v-720h720v720H120Zm60-500h600v-160H180v160Zm220 220h160v-160H400v160Zm0 220h160v-160H400v160ZM180-400h160v-160H180v160Zm440 0h160v-160H620v160ZM180-180h160v-160H180v160Zm440 0h160v-160H620v160Z\"/>\n",
              "  </svg>\n",
              "    </button>\n",
              "\n",
              "  <style>\n",
              "    .colab-df-container {\n",
              "      display:flex;\n",
              "      gap: 12px;\n",
              "    }\n",
              "\n",
              "    .colab-df-convert {\n",
              "      background-color: #E8F0FE;\n",
              "      border: none;\n",
              "      border-radius: 50%;\n",
              "      cursor: pointer;\n",
              "      display: none;\n",
              "      fill: #1967D2;\n",
              "      height: 32px;\n",
              "      padding: 0 0 0 0;\n",
              "      width: 32px;\n",
              "    }\n",
              "\n",
              "    .colab-df-convert:hover {\n",
              "      background-color: #E2EBFA;\n",
              "      box-shadow: 0px 1px 2px rgba(60, 64, 67, 0.3), 0px 1px 3px 1px rgba(60, 64, 67, 0.15);\n",
              "      fill: #174EA6;\n",
              "    }\n",
              "\n",
              "    .colab-df-buttons div {\n",
              "      margin-bottom: 4px;\n",
              "    }\n",
              "\n",
              "    [theme=dark] .colab-df-convert {\n",
              "      background-color: #3B4455;\n",
              "      fill: #D2E3FC;\n",
              "    }\n",
              "\n",
              "    [theme=dark] .colab-df-convert:hover {\n",
              "      background-color: #434B5C;\n",
              "      box-shadow: 0px 1px 3px 1px rgba(0, 0, 0, 0.15);\n",
              "      filter: drop-shadow(0px 1px 2px rgba(0, 0, 0, 0.3));\n",
              "      fill: #FFFFFF;\n",
              "    }\n",
              "  </style>\n",
              "\n",
              "    <script>\n",
              "      const buttonEl =\n",
              "        document.querySelector('#df-8d9ac741-df6f-462d-894f-34f5d9ff1cd5 button.colab-df-convert');\n",
              "      buttonEl.style.display =\n",
              "        google.colab.kernel.accessAllowed ? 'block' : 'none';\n",
              "\n",
              "      async function convertToInteractive(key) {\n",
              "        const element = document.querySelector('#df-8d9ac741-df6f-462d-894f-34f5d9ff1cd5');\n",
              "        const dataTable =\n",
              "          await google.colab.kernel.invokeFunction('convertToInteractive',\n",
              "                                                    [key], {});\n",
              "        if (!dataTable) return;\n",
              "\n",
              "        const docLinkHtml = 'Like what you see? Visit the ' +\n",
              "          '<a target=\"_blank\" href=https://colab.research.google.com/notebooks/data_table.ipynb>data table notebook</a>'\n",
              "          + ' to learn more about interactive tables.';\n",
              "        element.innerHTML = '';\n",
              "        dataTable['output_type'] = 'display_data';\n",
              "        await google.colab.output.renderOutput(dataTable, element);\n",
              "        const docLink = document.createElement('div');\n",
              "        docLink.innerHTML = docLinkHtml;\n",
              "        element.appendChild(docLink);\n",
              "      }\n",
              "    </script>\n",
              "  </div>\n",
              "\n",
              "\n",
              "    <div id=\"df-3c7a43ba-b67c-4d56-8697-ec3f264a6a15\">\n",
              "      <button class=\"colab-df-quickchart\" onclick=\"quickchart('df-3c7a43ba-b67c-4d56-8697-ec3f264a6a15')\"\n",
              "                title=\"Suggest charts\"\n",
              "                style=\"display:none;\">\n",
              "\n",
              "<svg xmlns=\"http://www.w3.org/2000/svg\" height=\"24px\"viewBox=\"0 0 24 24\"\n",
              "     width=\"24px\">\n",
              "    <g>\n",
              "        <path d=\"M19 3H5c-1.1 0-2 .9-2 2v14c0 1.1.9 2 2 2h14c1.1 0 2-.9 2-2V5c0-1.1-.9-2-2-2zM9 17H7v-7h2v7zm4 0h-2V7h2v10zm4 0h-2v-4h2v4z\"/>\n",
              "    </g>\n",
              "</svg>\n",
              "      </button>\n",
              "\n",
              "<style>\n",
              "  .colab-df-quickchart {\n",
              "      --bg-color: #E8F0FE;\n",
              "      --fill-color: #1967D2;\n",
              "      --hover-bg-color: #E2EBFA;\n",
              "      --hover-fill-color: #174EA6;\n",
              "      --disabled-fill-color: #AAA;\n",
              "      --disabled-bg-color: #DDD;\n",
              "  }\n",
              "\n",
              "  [theme=dark] .colab-df-quickchart {\n",
              "      --bg-color: #3B4455;\n",
              "      --fill-color: #D2E3FC;\n",
              "      --hover-bg-color: #434B5C;\n",
              "      --hover-fill-color: #FFFFFF;\n",
              "      --disabled-bg-color: #3B4455;\n",
              "      --disabled-fill-color: #666;\n",
              "  }\n",
              "\n",
              "  .colab-df-quickchart {\n",
              "    background-color: var(--bg-color);\n",
              "    border: none;\n",
              "    border-radius: 50%;\n",
              "    cursor: pointer;\n",
              "    display: none;\n",
              "    fill: var(--fill-color);\n",
              "    height: 32px;\n",
              "    padding: 0;\n",
              "    width: 32px;\n",
              "  }\n",
              "\n",
              "  .colab-df-quickchart:hover {\n",
              "    background-color: var(--hover-bg-color);\n",
              "    box-shadow: 0 1px 2px rgba(60, 64, 67, 0.3), 0 1px 3px 1px rgba(60, 64, 67, 0.15);\n",
              "    fill: var(--button-hover-fill-color);\n",
              "  }\n",
              "\n",
              "  .colab-df-quickchart-complete:disabled,\n",
              "  .colab-df-quickchart-complete:disabled:hover {\n",
              "    background-color: var(--disabled-bg-color);\n",
              "    fill: var(--disabled-fill-color);\n",
              "    box-shadow: none;\n",
              "  }\n",
              "\n",
              "  .colab-df-spinner {\n",
              "    border: 2px solid var(--fill-color);\n",
              "    border-color: transparent;\n",
              "    border-bottom-color: var(--fill-color);\n",
              "    animation:\n",
              "      spin 1s steps(1) infinite;\n",
              "  }\n",
              "\n",
              "  @keyframes spin {\n",
              "    0% {\n",
              "      border-color: transparent;\n",
              "      border-bottom-color: var(--fill-color);\n",
              "      border-left-color: var(--fill-color);\n",
              "    }\n",
              "    20% {\n",
              "      border-color: transparent;\n",
              "      border-left-color: var(--fill-color);\n",
              "      border-top-color: var(--fill-color);\n",
              "    }\n",
              "    30% {\n",
              "      border-color: transparent;\n",
              "      border-left-color: var(--fill-color);\n",
              "      border-top-color: var(--fill-color);\n",
              "      border-right-color: var(--fill-color);\n",
              "    }\n",
              "    40% {\n",
              "      border-color: transparent;\n",
              "      border-right-color: var(--fill-color);\n",
              "      border-top-color: var(--fill-color);\n",
              "    }\n",
              "    60% {\n",
              "      border-color: transparent;\n",
              "      border-right-color: var(--fill-color);\n",
              "    }\n",
              "    80% {\n",
              "      border-color: transparent;\n",
              "      border-right-color: var(--fill-color);\n",
              "      border-bottom-color: var(--fill-color);\n",
              "    }\n",
              "    90% {\n",
              "      border-color: transparent;\n",
              "      border-bottom-color: var(--fill-color);\n",
              "    }\n",
              "  }\n",
              "</style>\n",
              "\n",
              "      <script>\n",
              "        async function quickchart(key) {\n",
              "          const quickchartButtonEl =\n",
              "            document.querySelector('#' + key + ' button');\n",
              "          quickchartButtonEl.disabled = true;  // To prevent multiple clicks.\n",
              "          quickchartButtonEl.classList.add('colab-df-spinner');\n",
              "          try {\n",
              "            const charts = await google.colab.kernel.invokeFunction(\n",
              "                'suggestCharts', [key], {});\n",
              "          } catch (error) {\n",
              "            console.error('Error during call to suggestCharts:', error);\n",
              "          }\n",
              "          quickchartButtonEl.classList.remove('colab-df-spinner');\n",
              "          quickchartButtonEl.classList.add('colab-df-quickchart-complete');\n",
              "        }\n",
              "        (() => {\n",
              "          let quickchartButtonEl =\n",
              "            document.querySelector('#df-3c7a43ba-b67c-4d56-8697-ec3f264a6a15 button');\n",
              "          quickchartButtonEl.style.display =\n",
              "            google.colab.kernel.accessAllowed ? 'block' : 'none';\n",
              "        })();\n",
              "      </script>\n",
              "    </div>\n",
              "\n",
              "    </div>\n",
              "  </div>\n"
            ],
            "application/vnd.google.colaboratory.intrinsic+json": {
              "type": "dataframe",
              "summary": "{\n  \"name\": \"df\",\n  \"rows\": 8,\n  \"fields\": [\n    {\n      \"column\": \"Price\",\n      \"properties\": {\n        \"dtype\": \"number\",\n        \"std\": 2319185520.3429804,\n        \"min\": 1003.0,\n        \"max\": 7300000000.0,\n        \"num_unique_values\": 8,\n        \"samples\": [\n          1972754796.4805584,\n          1500000000.0,\n          1003.0\n        ],\n        \"semantic_type\": \"\",\n        \"description\": \"\"\n      }\n    },\n    {\n      \"column\": \"Bedrooms\",\n      \"properties\": {\n        \"dtype\": \"number\",\n        \"std\": 353.60525745629417,\n        \"min\": 0.8995903680407279,\n        \"max\": 1003.0,\n        \"num_unique_values\": 7,\n        \"samples\": [\n          1003.0,\n          3.1186440677966103,\n          4.0\n        ],\n        \"semantic_type\": \"\",\n        \"description\": \"\"\n      }\n    },\n    {\n      \"column\": \"Living Size(m\\u00b2)\",\n      \"properties\": {\n        \"dtype\": \"number\",\n        \"std\": 326.923250088181,\n        \"min\": 36.0,\n        \"max\": 1003.0,\n        \"num_unique_values\": 8,\n        \"samples\": [\n          120.78743768693919,\n          100.0,\n          1003.0\n        ],\n        \"semantic_type\": \"\",\n        \"description\": \"\"\n      }\n    },\n    {\n      \"column\": \"Land Size(m\\u00b2)\",\n      \"properties\": {\n        \"dtype\": \"number\",\n        \"std\": 325.58456644275475,\n        \"min\": 37.0,\n        \"max\": 1003.0,\n        \"num_unique_values\": 8,\n        \"samples\": [\n          112.50598205383848,\n          96.0,\n          1003.0\n        ],\n        \"semantic_type\": \"\",\n        \"description\": \"\"\n      }\n    }\n  ]\n}"
            }
          },
          "metadata": {},
          "execution_count": 22
        }
      ],
      "source": [
        "df.describe()"
      ]
    },
    {
      "cell_type": "markdown",
      "metadata": {
        "id": "1JhDOt344CLg"
      },
      "source": [
        "Hasil prediksi dari model ini akan OK jika rumah yang akan diprediksi memiliki bedrooms tidak lebih dari 5, Living Size di antara 36 hingga 400 meter persegi dan Land Size di antara 37 hingga 338 meter persegi."
      ]
    },
    {
      "cell_type": "code",
      "execution_count": 23,
      "metadata": {
        "colab": {
          "base_uri": "https://localhost:8080/"
        },
        "id": "xSl14pg7WMKd",
        "outputId": "9e586994-b3d7-4cad-9fcd-738e101ab20c"
      },
      "outputs": [
        {
          "output_type": "stream",
          "name": "stdout",
          "text": [
            "<class 'pandas.core.frame.DataFrame'>\n",
            "RangeIndex: 1003 entries, 0 to 1002\n",
            "Data columns (total 5 columns):\n",
            " #   Column           Non-Null Count  Dtype  \n",
            "---  ------           --------------  -----  \n",
            " 0   Price            1003 non-null   float64\n",
            " 1   Bedrooms         1003 non-null   int64  \n",
            " 2   Living Size(m²)  1003 non-null   float64\n",
            " 3   Land Size(m²)    1003 non-null   float64\n",
            " 4   Location         1003 non-null   object \n",
            "dtypes: float64(3), int64(1), object(1)\n",
            "memory usage: 39.3+ KB\n"
          ]
        }
      ],
      "source": [
        "df.info()"
      ]
    },
    {
      "cell_type": "markdown",
      "metadata": {
        "id": "czvbucyKMy4q"
      },
      "source": [
        "#### Logarithmic Transformation"
      ]
    },
    {
      "cell_type": "markdown",
      "source": [
        "- Untuk semua fitur numerik selain Price, yang distribusi datanya memiliki skewness s di luar rentang -1 < s < 1, pada fitur itu akan dilakukan tranformasi logaritimik.\n",
        "-  Transformasi logaritmik pada Price akan dilakukan setelah Price didefinisikan sebagai target y agar nilai tranformasinya dapat di inverse sehingga MAE yang terhitung sama dengan selisih harga asli."
      ],
      "metadata": {
        "id": "mAWKo44gGmPf"
      }
    },
    {
      "cell_type": "code",
      "execution_count": 24,
      "metadata": {
        "colab": {
          "base_uri": "https://localhost:8080/"
        },
        "id": "LiBV821OKuty",
        "outputId": "59288259-6982-4c22-c24f-ee7e61db8084"
      },
      "outputs": [
        {
          "output_type": "stream",
          "name": "stdout",
          "text": [
            "Transformasi log1p pada kolom: Living Size(m²) (skewness = 1.10)\n",
            "Transformasi log1p pada kolom: Land Size(m²) (skewness = 1.49)\n"
          ]
        }
      ],
      "source": [
        "numeric_cols = df.select_dtypes(include=[np.number]).columns.drop('Price')  # Exclude target\n",
        "skew_threshold = 1.0  # Atau threshold lain yang sesuai\n",
        "\n",
        "for col in numeric_cols:\n",
        "    skewness = df[col].skew()\n",
        "    if abs(skewness) > skew_threshold:\n",
        "        df[col] = np.log1p(df[col])\n",
        "        print(f'Transformasi log1p pada kolom: {col} (skewness = {skewness:.2f})')"
      ]
    },
    {
      "cell_type": "markdown",
      "source": [
        "#### Pemisahan Target dan Fitur"
      ],
      "metadata": {
        "id": "Z1whA3X4PWNA"
      }
    },
    {
      "cell_type": "markdown",
      "source": [
        "Price dipisah menjadi trarget y dan fitur lain menjadi variabel prediktor X."
      ],
      "metadata": {
        "id": "1XiH_CZdRNUH"
      }
    },
    {
      "cell_type": "code",
      "source": [
        "# Fitur dan target\n",
        "X = df.drop(columns=['Price'])\n",
        "y = np.log1p(df['Price'])  # Transformasi logaritmik pada harga"
      ],
      "metadata": {
        "id": "OCJRpxh0PZ5v"
      },
      "execution_count": 25,
      "outputs": []
    },
    {
      "cell_type": "markdown",
      "source": [
        "Karena proses modeling menggunakan kfold cross-validation, encoding dan standardisasi dilakukan setelah data splitting disetiap kfold agar data evaluasi tidak bocor ke data pelatihan yang dapat menyebabkan overfitting. data splitting juga dilakukan disetiap kfold (yang mana tahap ini masuk ke bagian Modeling di dalam modul ini)."
      ],
      "metadata": {
        "id": "ttB62X77UiyB"
      }
    },
    {
      "cell_type": "markdown",
      "source": [
        "Namun, untuk memenuhi kriteria struktur penulisan laporan, saya tetap menjelaskan proses data splitting, encoding, dan standardisasi pada bagian data preparation di laporan. Mohon maklumnya reviewer, terima kasih."
      ],
      "metadata": {
        "id": "1Gugjdvi-5J5"
      }
    },
    {
      "cell_type": "code",
      "execution_count": 30,
      "metadata": {
        "colab": {
          "base_uri": "https://localhost:8080/"
        },
        "id": "8NGmU4EWFh0D",
        "outputId": "37aa8fcf-0a40-4047-f0c9-92664036cf59"
      },
      "outputs": [
        {
          "output_type": "stream",
          "name": "stdout",
          "text": [
            "Requirement already satisfied: category_encoders in /usr/local/lib/python3.11/dist-packages (2.8.1)\n",
            "Requirement already satisfied: numpy>=1.14.0 in /usr/local/lib/python3.11/dist-packages (from category_encoders) (2.0.2)\n",
            "Requirement already satisfied: pandas>=1.0.5 in /usr/local/lib/python3.11/dist-packages (from category_encoders) (2.2.2)\n",
            "Requirement already satisfied: patsy>=0.5.1 in /usr/local/lib/python3.11/dist-packages (from category_encoders) (1.0.1)\n",
            "Requirement already satisfied: scikit-learn>=1.6.0 in /usr/local/lib/python3.11/dist-packages (from category_encoders) (1.6.1)\n",
            "Requirement already satisfied: scipy>=1.0.0 in /usr/local/lib/python3.11/dist-packages (from category_encoders) (1.15.2)\n",
            "Requirement already satisfied: statsmodels>=0.9.0 in /usr/local/lib/python3.11/dist-packages (from category_encoders) (0.14.4)\n",
            "Requirement already satisfied: python-dateutil>=2.8.2 in /usr/local/lib/python3.11/dist-packages (from pandas>=1.0.5->category_encoders) (2.9.0.post0)\n",
            "Requirement already satisfied: pytz>=2020.1 in /usr/local/lib/python3.11/dist-packages (from pandas>=1.0.5->category_encoders) (2025.2)\n",
            "Requirement already satisfied: tzdata>=2022.7 in /usr/local/lib/python3.11/dist-packages (from pandas>=1.0.5->category_encoders) (2025.2)\n",
            "Requirement already satisfied: joblib>=1.2.0 in /usr/local/lib/python3.11/dist-packages (from scikit-learn>=1.6.0->category_encoders) (1.4.2)\n",
            "Requirement already satisfied: threadpoolctl>=3.1.0 in /usr/local/lib/python3.11/dist-packages (from scikit-learn>=1.6.0->category_encoders) (3.6.0)\n",
            "Requirement already satisfied: packaging>=21.3 in /usr/local/lib/python3.11/dist-packages (from statsmodels>=0.9.0->category_encoders) (24.2)\n",
            "Requirement already satisfied: six>=1.5 in /usr/local/lib/python3.11/dist-packages (from python-dateutil>=2.8.2->pandas>=1.0.5->category_encoders) (1.17.0)\n"
          ]
        }
      ],
      "source": [
        "!pip install category_encoders"
      ]
    },
    {
      "cell_type": "markdown",
      "metadata": {
        "id": "FEai8GKQNk8D"
      },
      "source": [
        "###  Modeling"
      ]
    },
    {
      "cell_type": "markdown",
      "source": [
        "Ada dua algoritma yang digunakan untuk modeling, yakni Linear Regression dan Support Vector Machine.\n",
        "\n",
        "Proses modeling ini menggunakan K-Fold Cross Validation karena distribusi data di semua fitur tidak seimbang.\n",
        "\n",
        "Dalam proses K-Fold Cross Validation, seluruh langkah berikut ini dilakukan di dalam loop KFold:\n",
        "\n",
        "\n",
        "1. Data Splitting (Train vs Validation):\n",
        "\n",
        "   - Data `X` dibagi menjadi `X_train` dan `X_val`.\n",
        "   - Data `y` dibagi menjadi `y_train` dan `y_val`.\n",
        "\n",
        "\n",
        "2. Encoding dan Standardisasi:\n",
        "\n",
        "   - encode `X_train['Location']` dan `X_val['Location']`menggunakan `TargetEncoder`.\n",
        "   - standardisasi `X_train`, `X_val`, `y_train`, `y_val` menggunakan`StandardScaler`.\n",
        "\n",
        "3. Training Model & Predicts:\n",
        "\n",
        "   - Model dilatih dengan data training yang sudah di encode dan distandardisasi.\n",
        "   `model.fit(X_train_scaled, y_train_scaled)`  \n",
        "   - Kemudian Melakukan prediksi dengan model yang telah dilatih.\n",
        "   `y_pred_scaled = model.predict(X_val_scaled)`\n",
        "\n",
        "4. Inverse Standardisasi dan Transformasi:\n",
        "   - Mengembalikan hasil prediksi ke skala Price asli  dengan fungsi `inverse_transform` dan `expm1`   \n",
        "   - Pengembalian ke skala Price asli agar hasil MAE di bagian evaluasi mencerminkan selisih harga prediksi dengan harga asli.\n",
        "\n",
        "5. Evaluasi:\n",
        "\n",
        "   Evaluasi model menggunakan metrik  MAE dan R²\n",
        "\n",
        "6. Hasil/nilai dari metrik evaluasi dari setiap iterasi Kfold dikumpulkan ke dalam list.\n",
        "\n",
        "Kemudian, setelah kfold cross-validation selesai, rata-rata dari score metrik evaluasi untuk setiap model, yang telah disimpan di dalam list dihitung untuk membandingkan model mana yang memiliki rata-rata score lebih baik."
      ],
      "metadata": {
        "id": "OQB9P9I1cwM4"
      }
    },
    {
      "cell_type": "markdown",
      "source": [
        "Pada bagian Evaluasi diharapkan MAE menunjukkan selisih harga asli dengan harga prediksi, sehingga dilaporan, proses inverse standardisasi dan inverse transformasi saya sertakan di bagian evaluasi."
      ],
      "metadata": {
        "id": "VG6mZzMJ_WXx"
      }
    },
    {
      "cell_type": "markdown",
      "metadata": {
        "id": "x7BDJp_CwV9f"
      },
      "source": [
        "#### Linear Regressor"
      ]
    },
    {
      "cell_type": "code",
      "execution_count": 31,
      "metadata": {
        "colab": {
          "base_uri": "https://localhost:8080/"
        },
        "id": "CPL5MJRR8uoB",
        "outputId": "c6ed212f-0e9b-4e53-80d7-a51c0ad899c4"
      },
      "outputs": [
        {
          "output_type": "stream",
          "name": "stdout",
          "text": [
            "Linear Regression - Fold 1 - MAE (harga asli): Rp632,174,606.37, R²: 0.59\n",
            "Linear Regression - Fold 2 - MAE (harga asli): Rp681,156,475.07, R²: 0.67\n",
            "Linear Regression - Fold 3 - MAE (harga asli): Rp545,931,643.16, R²: 0.71\n",
            "Linear Regression - Fold 4 - MAE (harga asli): Rp724,166,483.17, R²: 0.47\n",
            "Linear Regression - Fold 5 - MAE (harga asli): Rp591,781,430.59, R²: 0.69\n",
            "Linear Regression - Fold 6 - MAE (harga asli): Rp508,115,750.90, R²: 0.60\n",
            "Linear Regression - Fold 7 - MAE (harga asli): Rp461,012,796.09, R²: 0.76\n",
            "Linear Regression - Fold 8 - MAE (harga asli): Rp570,147,651.97, R²: 0.71\n",
            "Linear Regression - Fold 9 - MAE (harga asli): Rp661,954,216.76, R²: 0.68\n",
            "Linear Regression - Fold 10 - MAE (harga asli): Rp606,871,464.53, R²: 0.64\n",
            "\n",
            "Linear Regression - Rata-rata MAE (harga asli): Rp598,331,251.86, Rata-rata R²: 0.65\n"
          ]
        }
      ],
      "source": [
        "from sklearn.model_selection import KFold\n",
        "from sklearn.linear_model import LinearRegression\n",
        "from sklearn.metrics import mean_absolute_error, r2_score\n",
        "from sklearn.preprocessing import StandardScaler\n",
        "from category_encoders import TargetEncoder\n",
        "\n",
        "# Inisialisasi 10-Fold KFold\n",
        "kf = KFold(n_splits=10, shuffle=True, random_state=42)\n",
        "model = LinearRegression()\n",
        "\n",
        "# Menyimpan metrik\n",
        "mae_lr_scores = []\n",
        "r2_lr_scores = []\n",
        "\n",
        "for fold, (train_idx, val_idx) in enumerate(kf.split(X)):\n",
        "    X_train, X_val = X.iloc[train_idx], X.iloc[val_idx]\n",
        "    y_train, y_val = y.iloc[train_idx], y.iloc[val_idx]\n",
        "\n",
        "    # Target encoding\n",
        "    encoder = TargetEncoder()\n",
        "    X_train.loc[:, 'Location'] = encoder.fit_transform(X_train['Location'], y_train)['Location']\n",
        "    X_val.loc[:, 'Location'] = encoder.transform(X_val['Location'])['Location']\n",
        "\n",
        "    # Standarisasi fitur\n",
        "    scaler_x = StandardScaler()\n",
        "    X_train_scaled = scaler_x.fit_transform(X_train)\n",
        "    X_val_scaled = scaler_x.transform(X_val)\n",
        "\n",
        "    # Standarisasi target\n",
        "    scaler_y = StandardScaler()\n",
        "    y_train_scaled = scaler_y.fit_transform(y_train.values.reshape(-1, 1)).ravel()\n",
        "    y_val_scaled = scaler_y.transform(y_val.values.reshape(-1, 1)).ravel()\n",
        "\n",
        "    # Latih  model & lakukan prediksi\n",
        "    model.fit(X_train_scaled, y_train_scaled)\n",
        "    y_pred_scaled = model.predict(X_val_scaled)\n",
        "\n",
        "   # Kembalikan prediksi ke skala asli dengan urutan yang benar\n",
        "    y_pred_log = scaler_y.inverse_transform(y_pred_scaled.reshape(-1, 1)).ravel()  # Inverse standardisasi\n",
        "    y_val_log = scaler_y.inverse_transform(y_val_scaled.reshape(-1, 1)).ravel()\n",
        "\n",
        "    # Pastikan nilai berada dalam skala harga asli dengan inverse log transformasi\n",
        "    y_pred_original = np.expm1(y_pred_log)  # Kembali dari log1p ke harga asli\n",
        "    y_val_original = np.expm1(y_val_log)\n",
        "\n",
        "    # Hitung metrik evaluasi dengan harga asli\n",
        "    mae = mean_absolute_error(y_val_original, y_pred_original)\n",
        "    r2 = r2_score(y_val_original, y_pred_original)\n",
        "\n",
        "    mae_lr_scores.append(mae)\n",
        "    r2_lr_scores.append(r2)\n",
        "\n",
        "    print(f\"Linear Regression - Fold {fold+1} - MAE (harga asli): Rp{mae:,.2f}, R²: {r2:.2f}\")\n",
        "\n",
        "\n",
        "# Rata-rata metrik\n",
        "print(f\"\\nLinear Regression - Rata-rata MAE (harga asli): Rp{np.mean(mae_lr_scores):,.2f}, Rata-rata R²: {np.mean(r2_lr_scores):.2f}\")\n"
      ]
    },
    {
      "cell_type": "markdown",
      "metadata": {
        "id": "IgS6-I9_waVP"
      },
      "source": [
        "#### Support Vector Regressor"
      ]
    },
    {
      "cell_type": "code",
      "execution_count": 32,
      "metadata": {
        "colab": {
          "base_uri": "https://localhost:8080/"
        },
        "id": "9BRdoQJpFYxJ",
        "outputId": "dc6bd795-3514-4930-dd6f-fc997b03da89"
      },
      "outputs": [
        {
          "output_type": "stream",
          "name": "stdout",
          "text": [
            "SVR - Fold 1 - MAE (harga asli): Rp572,597,211.94, R²: 0.65\n",
            "SVR - Fold 2 - MAE (harga asli): Rp690,589,101.08, R²: 0.69\n",
            "SVR - Fold 3 - MAE (harga asli): Rp555,784,983.98, R²: 0.69\n",
            "SVR - Fold 4 - MAE (harga asli): Rp670,322,890.04, R²: 0.53\n",
            "SVR - Fold 5 - MAE (harga asli): Rp560,479,631.57, R²: 0.72\n",
            "SVR - Fold 6 - MAE (harga asli): Rp527,833,307.50, R²: 0.59\n",
            "SVR - Fold 7 - MAE (harga asli): Rp471,278,636.09, R²: 0.75\n",
            "SVR - Fold 8 - MAE (harga asli): Rp569,087,255.84, R²: 0.68\n",
            "SVR - Fold 9 - MAE (harga asli): Rp664,857,428.01, R²: 0.67\n",
            "SVR - Fold 10 - MAE (harga asli): Rp553,565,816.64, R²: 0.67\n",
            "\n",
            "SVR - Rata-rata MAE (harga asli): Rp583,639,626.27, Rata-rata R²: 0.66\n"
          ]
        }
      ],
      "source": [
        "from sklearn.svm import SVR\n",
        "\n",
        "# Inisialisasi 10-Fold KFold\n",
        "kf = KFold(n_splits=10, shuffle=True, random_state=42)\n",
        "model = SVR(kernel='rbf', C=1.0, gamma=0.1)  # Anda bisa mengatur parameter lain jika perlu\n",
        "\n",
        "# Menyimpan metrik\n",
        "mae_svr_scores = []\n",
        "r2_svr_scores = []\n",
        "\n",
        "for fold, (train_idx, val_idx) in enumerate(kf.split(X)):\n",
        "    X_train, X_val = X.iloc[train_idx], X.iloc[val_idx]\n",
        "    y_train, y_val = y.iloc[train_idx], y.iloc[val_idx]\n",
        "\n",
        "    # Target encoding\n",
        "    encoder = TargetEncoder()\n",
        "    X_train.loc[:, 'Location'] = encoder.fit_transform(X_train['Location'], y_train)['Location']\n",
        "    X_val.loc[:, 'Location'] = encoder.transform(X_val['Location'])['Location']\n",
        "\n",
        "    # Standarisasi fitur\n",
        "    scaler_x = StandardScaler()\n",
        "    X_train_scaled = scaler_x.fit_transform(X_train)\n",
        "    X_val_scaled = scaler_x.transform(X_val)\n",
        "\n",
        "    # Standarisasi target\n",
        "    scaler_y = StandardScaler()\n",
        "    y_train_scaled = scaler_y.fit_transform(y_train.values.reshape(-1, 1)).ravel()\n",
        "    y_val_scaled = scaler_y.transform(y_val.values.reshape(-1, 1)).ravel()\n",
        "\n",
        "    # Latih dan evaluasi model\n",
        "    model.fit(X_train_scaled, y_train_scaled)\n",
        "    y_pred_scaled = model.predict(X_val_scaled)\n",
        "\n",
        "    # Kembalikan prediksi ke skala asli\n",
        "    y_pred_log = scaler_y.inverse_transform(y_pred_scaled.reshape(-1, 1)).ravel()\n",
        "    y_val_log = scaler_y.inverse_transform(y_val_scaled.reshape(-1, 1)).ravel()\n",
        "\n",
        "    # Inverse transformasi log\n",
        "    y_pred_original = np.expm1(y_pred_log)\n",
        "    y_val_original = np.expm1(y_val_log)\n",
        "\n",
        "    # Evaluasi\n",
        "    mae = mean_absolute_error(y_val_original, y_pred_original)\n",
        "    r2 = r2_score(y_val_original, y_pred_original)\n",
        "\n",
        "    mae_svr_scores.append(mae)\n",
        "    r2_svr_scores.append(r2)\n",
        "\n",
        "    print(f\"SVR - Fold {fold+1} - MAE (harga asli): Rp{mae:,.2f}, R²: {r2:.2f}\")\n",
        "\n",
        "# Rata-rata metrik\n",
        "print(f\"\\nSVR - Rata-rata MAE (harga asli): Rp{np.mean(mae_svr_scores):,.2f}, Rata-rata R²: {np.mean(r2_svr_scores):.2f}\")"
      ]
    },
    {
      "cell_type": "code",
      "source": [
        "# membandingkan rata-rata nilai metrik evaluasi dari kedua model\n",
        "print(f\"\\nLinear Regression - Rata-rata MAE (harga asli): Rp{np.mean(mae_lr_scores):,.2f}, Rata-rata R²: {np.mean(r2_lr_scores):.2f}\")\n",
        "print(f\"\\nSVR - Rata-rata MAE (harga asli): Rp{np.mean(mae_svr_scores):,.2f}, Rata-rata R²: {np.mean(r2_svr_scores):.2f}\")"
      ],
      "metadata": {
        "colab": {
          "base_uri": "https://localhost:8080/"
        },
        "id": "0HqxyfUynoHh",
        "outputId": "460b91db-1945-4fae-aa0d-225c0959bc0f"
      },
      "execution_count": 33,
      "outputs": [
        {
          "output_type": "stream",
          "name": "stdout",
          "text": [
            "\n",
            "Linear Regression - Rata-rata MAE (harga asli): Rp598,331,251.86, Rata-rata R²: 0.65\n",
            "\n",
            "SVR - Rata-rata MAE (harga asli): Rp583,639,626.27, Rata-rata R²: 0.66\n"
          ]
        }
      ]
    },
    {
      "cell_type": "markdown",
      "source": [
        "- model SVR performanya sedikit lebih baik dari model linear regressor, kesalahan prediksi harganya sedikit lebih kecil dan dapat menjelaskan sekitar 66 % variasi harga rumah.\n",
        "- kedua model belum bisa diproduksi untuk membantu user mengurangi potensi overpaying karena nilai MAE nya masih sangat besar (Rp583,639,626.27) dan R² (66%) tidak cukup besar.\n",
        "- Selanjutnya, akan ditingkatkan kualitas dan kuantitas dataset, kemudian akan dilakukan hyperparameter tuning pada model SVRd agar memperkecil MAE dan meningkatkat R² sampai nilai yang diharapkan"
      ],
      "metadata": {
        "id": "wE2MpxElpqCh"
      }
    }
  ],
  "metadata": {
    "colab": {
      "provenance": [],
      "toc_visible": true,
      "collapsed_sections": [
        "L7gFyUR6p1FX"
      ]
    },
    "kernelspec": {
      "display_name": "Python 3",
      "name": "python3"
    },
    "language_info": {
      "codemirror_mode": {
        "name": "ipython",
        "version": 3
      },
      "file_extension": ".py",
      "mimetype": "text/x-python",
      "name": "python",
      "nbconvert_exporter": "python",
      "pygments_lexer": "ipython3",
      "version": "3.11.3"
    }
  },
  "nbformat": 4,
  "nbformat_minor": 0
}